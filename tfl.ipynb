{
 "cells": [
  {
   "cell_type": "markdown",
   "metadata": {},
   "source": [
    "# TFL - AccidentStats"
   ]
  },
  {
   "cell_type": "markdown",
   "metadata": {},
   "source": [
    "* pip install requests pandas matplotlib python-dotenv"
   ]
  },
  {
   "cell_type": "code",
   "execution_count": 2,
   "metadata": {},
   "outputs": [],
   "source": [
    "import requests\n",
    "import pandas as pd\n",
    "import os\n",
    "import matplotlib.pyplot as plt\n",
    "from dotenv import load_dotenv"
   ]
  },
  {
   "cell_type": "markdown",
   "metadata": {},
   "source": [
    "* ### load variables"
   ]
  },
  {
   "cell_type": "code",
   "execution_count": 3,
   "metadata": {},
   "outputs": [
    {
     "data": {
      "text/plain": [
       "True"
      ]
     },
     "execution_count": 3,
     "metadata": {},
     "output_type": "execute_result"
    }
   ],
   "source": [
    "load_dotenv()"
   ]
  },
  {
   "cell_type": "markdown",
   "metadata": {},
   "source": [
    "* ### load keys"
   ]
  },
  {
   "cell_type": "code",
   "execution_count": null,
   "metadata": {},
   "outputs": [],
   "source": [
    "APP_ID = os.getenv('APP_ID')\n",
    "API_KEY = os.getenv('API_KEY')\n",
    "YEAR = 2019"
   ]
  },
  {
   "cell_type": "markdown",
   "metadata": {},
   "source": [
    "## fetch"
   ]
  },
  {
   "cell_type": "markdown",
   "metadata": {},
   "source": [
    "* ### endpoint"
   ]
  },
  {
   "cell_type": "code",
   "execution_count": 47,
   "metadata": {},
   "outputs": [],
   "source": [
    "url = f'https://api.tfl.gov.uk/AccidentStats/{YEAR}?app_id={APP_ID}&app_key={API_KEY}'"
   ]
  },
  {
   "cell_type": "code",
   "execution_count": null,
   "metadata": {},
   "outputs": [
    {
     "name": "stdout",
     "output_type": "stream",
     "text": [
      "[{'$type': 'Tfl.Api.Presentation.Entities.AccidentStats.AccidentDetail, Tfl.Api.Presentation.Entities', 'id': 345979, 'lat': 51.570865, 'lon': -0.231959, 'location': 'On Edgware Road Near The Junction With north Circular Road', 'date': '2019-01-04T21:22:00Z', 'severity': 'Slight', 'borough': 'Barnet', 'casualties': [{'$type': 'Tfl.Api.Presentation.Entities.AccidentStats.Casualty, Tfl.Api.Presentation.Entities', 'age': 20, 'class': 'Driver', 'severity': 'Slight', 'mode': 'PoweredTwoWheeler', 'ageBand': 'Adult'}], 'vehicles': [{'$type': 'Tfl.Api.Presentation.Entities.AccidentStats.Vehicle, Tfl.Api.Presentation.Entities', 'type': 'Motorcycle_500cc_Plus'}, {'$type': 'Tfl.Api.Presentation.Entities.AccidentStats.Vehicle, Tfl.Api.Presentation.Entities', 'type': 'Car'}]}, {'$type': 'Tfl.Api.Presentation.Entities.AccidentStats.AccidentDetail, Tfl.Api.Presentation.Entities', 'id': 345980, 'lat': 51.603859, 'lon': -0.18724, 'location': 'On Willow Way Near The Junction With Long Lane', 'date': '2019-01-04T23:33:00Z', 'severity': 'Slight', 'borough': 'Barnet', 'casualties': [{'$type': 'Tfl.Api.Presentation.Entities.AccidentStats.Casualty, Tfl.Api.Presentation.Entities', 'age': 29, 'class': 'Driver', 'severity': 'Slight', 'mode': 'PoweredTwoWheeler', 'ageBand': 'Adult'}], 'vehicles': [{'$type': 'Tfl.Api.Presentation.Entities.AccidentStats.Vehicle, Tfl.Api.Presentation.Entities', 'type': 'Motorcycle_50_125cc'}, {'$type': 'Tfl.Api.Presentation.Entities.AccidentStats.Vehicle, Tfl.Api.Presentation.Entities', 'type': 'Car'}, {'$type': 'Tfl.Api.Presentation.Entities.AccidentStats.Vehicle, Tfl.Api.Presentation.Entities', 'type': 'Car'}]}]\n"
     ]
    }
   ],
   "source": [
    "response = requests.get(url)\n",
    "\n",
    "if response.status_code == 200:\n",
    "    accident_data = response.json()\n",
    "    print(accident_data[:2])\n",
    "else:\n",
    "    print(f'Error: {response.status_code}, {response.text}')\n"
   ]
  },
  {
   "cell_type": "code",
   "execution_count": null,
   "metadata": {},
   "outputs": [],
   "source": [
    "\n",
    "my_list = []\n",
    "\n",
    "for accident in accident_data:\n",
    "    date = accident['date']\n",
    "    borough = accident['borough']\n",
    "    lat = accident['lat']\n",
    "    lon = accident['lon']\n",
    "    severity = accident['severity']\n",
    "    total_vehicles = len(accident['vehicles'])\n",
    "    vehicles = [vehicle['type'] for (vehicle) in accident['vehicles']]\n",
    "\n",
    "    my_list.append({\n",
    "        'Date': date,\n",
    "        'Borough': borough,\n",
    "        'Severity': severity,\n",
    "        'Vehicles Total': total_vehicles,\n",
    "        'Vehicles Types': vehicles,\n",
    "        'Latitude': lat,\n",
    "        'Longitude': lon\n",
    "    })\n",
    "\n",
    "    #print(f'Date: {date}\\n Borough: {borough}\\n Severity: {severity}\\n Vehicles Total: {total_vehicles} \\n Vehicle Types: {vehicles}\\n\\n')\n"
   ]
  },
  {
   "cell_type": "code",
   "execution_count": 49,
   "metadata": {},
   "outputs": [
    {
     "data": {
      "text/plain": [
       "[{'Date': '2019-01-04T21:22:00Z',\n",
       "  'Borough': 'Barnet',\n",
       "  'Severity': 'Slight',\n",
       "  'Vehicles Total': 2,\n",
       "  'Vehicles Types': ['Motorcycle_500cc_Plus', 'Car'],\n",
       "  'Latitude': 51.570865,\n",
       "  'Longitude': -0.231959},\n",
       " {'Date': '2019-01-04T23:33:00Z',\n",
       "  'Borough': 'Barnet',\n",
       "  'Severity': 'Slight',\n",
       "  'Vehicles Total': 3,\n",
       "  'Vehicles Types': ['Motorcycle_50_125cc', 'Car', 'Car'],\n",
       "  'Latitude': 51.603859,\n",
       "  'Longitude': -0.18724}]"
      ]
     },
     "execution_count": 49,
     "metadata": {},
     "output_type": "execute_result"
    }
   ],
   "source": [
    "my_list[:2]"
   ]
  },
  {
   "cell_type": "markdown",
   "metadata": {},
   "source": [
    "* ### create table"
   ]
  },
  {
   "cell_type": "code",
   "execution_count": 109,
   "metadata": {},
   "outputs": [
    {
     "data": {
      "application/vnd.microsoft.datawrangler.viewer.v0+json": {
       "columns": [
        {
         "name": "index",
         "rawType": "int64",
         "type": "integer"
        },
        {
         "name": "Date",
         "rawType": "object",
         "type": "string"
        },
        {
         "name": "Borough",
         "rawType": "object",
         "type": "string"
        },
        {
         "name": "Severity",
         "rawType": "object",
         "type": "string"
        },
        {
         "name": "Vehicles Total",
         "rawType": "int64",
         "type": "integer"
        },
        {
         "name": "Vehicles Types",
         "rawType": "object",
         "type": "unknown"
        },
        {
         "name": "Latitude",
         "rawType": "float64",
         "type": "float"
        },
        {
         "name": "Longitude",
         "rawType": "float64",
         "type": "float"
        }
       ],
       "conversionMethod": "pd.DataFrame",
       "ref": "f14dbb03-0003-4325-993c-a2fe024f5889",
       "rows": [
        [
         "0",
         "2019-01-04T21:22:00Z",
         "Barnet",
         "Slight",
         "2",
         "['Motorcycle_500cc_Plus', 'Car']",
         "51.570865",
         "-0.231959"
        ],
        [
         "1",
         "2019-01-04T23:33:00Z",
         "Barnet",
         "Slight",
         "3",
         "['Motorcycle_50_125cc', 'Car', 'Car']",
         "51.603859",
         "-0.18724"
        ],
        [
         "2",
         "2019-01-04T22:15:00Z",
         "City of Westminster",
         "Slight",
         "1",
         "['Car']",
         "51.512198",
         "-0.153122"
        ],
        [
         "3",
         "2019-01-04T18:00:00Z",
         "Lewisham",
         "Slight",
         "2",
         "['Motorcycle_50_125cc', 'Car']",
         "51.43148",
         "-0.016083"
        ],
        [
         "4",
         "2019-01-04T20:45:00Z",
         "Bexley",
         "Slight",
         "2",
         "['Car', 'Car']",
         "51.473487",
         "0.145202"
        ]
       ],
       "shape": {
        "columns": 7,
        "rows": 5
       }
      },
      "text/html": [
       "<div>\n",
       "<style scoped>\n",
       "    .dataframe tbody tr th:only-of-type {\n",
       "        vertical-align: middle;\n",
       "    }\n",
       "\n",
       "    .dataframe tbody tr th {\n",
       "        vertical-align: top;\n",
       "    }\n",
       "\n",
       "    .dataframe thead th {\n",
       "        text-align: right;\n",
       "    }\n",
       "</style>\n",
       "<table border=\"1\" class=\"dataframe\">\n",
       "  <thead>\n",
       "    <tr style=\"text-align: right;\">\n",
       "      <th></th>\n",
       "      <th>Date</th>\n",
       "      <th>Borough</th>\n",
       "      <th>Severity</th>\n",
       "      <th>Vehicles Total</th>\n",
       "      <th>Vehicles Types</th>\n",
       "      <th>Latitude</th>\n",
       "      <th>Longitude</th>\n",
       "    </tr>\n",
       "  </thead>\n",
       "  <tbody>\n",
       "    <tr>\n",
       "      <th>0</th>\n",
       "      <td>2019-01-04T21:22:00Z</td>\n",
       "      <td>Barnet</td>\n",
       "      <td>Slight</td>\n",
       "      <td>2</td>\n",
       "      <td>[Motorcycle_500cc_Plus, Car]</td>\n",
       "      <td>51.570865</td>\n",
       "      <td>-0.231959</td>\n",
       "    </tr>\n",
       "    <tr>\n",
       "      <th>1</th>\n",
       "      <td>2019-01-04T23:33:00Z</td>\n",
       "      <td>Barnet</td>\n",
       "      <td>Slight</td>\n",
       "      <td>3</td>\n",
       "      <td>[Motorcycle_50_125cc, Car, Car]</td>\n",
       "      <td>51.603859</td>\n",
       "      <td>-0.187240</td>\n",
       "    </tr>\n",
       "    <tr>\n",
       "      <th>2</th>\n",
       "      <td>2019-01-04T22:15:00Z</td>\n",
       "      <td>City of Westminster</td>\n",
       "      <td>Slight</td>\n",
       "      <td>1</td>\n",
       "      <td>[Car]</td>\n",
       "      <td>51.512198</td>\n",
       "      <td>-0.153122</td>\n",
       "    </tr>\n",
       "    <tr>\n",
       "      <th>3</th>\n",
       "      <td>2019-01-04T18:00:00Z</td>\n",
       "      <td>Lewisham</td>\n",
       "      <td>Slight</td>\n",
       "      <td>2</td>\n",
       "      <td>[Motorcycle_50_125cc, Car]</td>\n",
       "      <td>51.431480</td>\n",
       "      <td>-0.016083</td>\n",
       "    </tr>\n",
       "    <tr>\n",
       "      <th>4</th>\n",
       "      <td>2019-01-04T20:45:00Z</td>\n",
       "      <td>Bexley</td>\n",
       "      <td>Slight</td>\n",
       "      <td>2</td>\n",
       "      <td>[Car, Car]</td>\n",
       "      <td>51.473487</td>\n",
       "      <td>0.145202</td>\n",
       "    </tr>\n",
       "  </tbody>\n",
       "</table>\n",
       "</div>"
      ],
      "text/plain": [
       "                   Date              Borough Severity  Vehicles Total  \\\n",
       "0  2019-01-04T21:22:00Z               Barnet   Slight               2   \n",
       "1  2019-01-04T23:33:00Z               Barnet   Slight               3   \n",
       "2  2019-01-04T22:15:00Z  City of Westminster   Slight               1   \n",
       "3  2019-01-04T18:00:00Z             Lewisham   Slight               2   \n",
       "4  2019-01-04T20:45:00Z               Bexley   Slight               2   \n",
       "\n",
       "                    Vehicles Types   Latitude  Longitude  \n",
       "0     [Motorcycle_500cc_Plus, Car]  51.570865  -0.231959  \n",
       "1  [Motorcycle_50_125cc, Car, Car]  51.603859  -0.187240  \n",
       "2                            [Car]  51.512198  -0.153122  \n",
       "3       [Motorcycle_50_125cc, Car]  51.431480  -0.016083  \n",
       "4                       [Car, Car]  51.473487   0.145202  "
      ]
     },
     "execution_count": 109,
     "metadata": {},
     "output_type": "execute_result"
    }
   ],
   "source": [
    "tfl_accident_df = pd.DataFrame(my_list)\n",
    "tfl_accident_df.reset_index()\n",
    "tfl_accident_df.head()"
   ]
  },
  {
   "cell_type": "code",
   "execution_count": 110,
   "metadata": {},
   "outputs": [
    {
     "data": {
      "text/plain": [
       "33"
      ]
     },
     "execution_count": 110,
     "metadata": {},
     "output_type": "execute_result"
    }
   ],
   "source": [
    "len(tfl_accident_df['Borough'].unique())"
   ]
  },
  {
   "cell_type": "markdown",
   "metadata": {},
   "source": [
    "### 1. count per borough"
   ]
  },
  {
   "cell_type": "code",
   "execution_count": 114,
   "metadata": {},
   "outputs": [
    {
     "data": {
      "application/vnd.microsoft.datawrangler.viewer.v0+json": {
       "columns": [
        {
         "name": "index",
         "rawType": "int64",
         "type": "integer"
        },
        {
         "name": "Borough",
         "rawType": "object",
         "type": "string"
        },
        {
         "name": "Total Accidents",
         "rawType": "int64",
         "type": "integer"
        }
       ],
       "conversionMethod": "pd.DataFrame",
       "ref": "47ceb886-1a6e-4d12-ba20-c1657405be29",
       "rows": [
        [
         "0",
         "City of Westminster",
         "3032"
        ],
        [
         "1",
         "Lambeth",
         "2382"
        ],
        [
         "2",
         "Tower Hamlets",
         "2232"
        ],
        [
         "3",
         "Southwark",
         "2186"
        ],
        [
         "4",
         "Ealing",
         "1966"
        ],
        [
         "5",
         "Croydon",
         "1908"
        ],
        [
         "6",
         "Barnet",
         "1896"
        ],
        [
         "7",
         "Enfield",
         "1894"
        ],
        [
         "8",
         "Wandsworth",
         "1890"
        ],
        [
         "9",
         "Camden",
         "1838"
        ],
        [
         "10",
         "Newham",
         "1758"
        ],
        [
         "11",
         "Hackney",
         "1730"
        ],
        [
         "12",
         "Brent",
         "1722"
        ],
        [
         "13",
         "Haringey",
         "1698"
        ],
        [
         "14",
         "Lewisham",
         "1590"
        ],
        [
         "15",
         "Hounslow",
         "1508"
        ],
        [
         "16",
         "Islington",
         "1468"
        ],
        [
         "17",
         "Greenwich",
         "1448"
        ],
        [
         "18",
         "Bromley",
         "1418"
        ],
        [
         "19",
         "Kensington and Chelsea",
         "1410"
        ],
        [
         "20",
         "Hammersmith and Fulham",
         "1404"
        ],
        [
         "21",
         "Redbridge",
         "1398"
        ],
        [
         "22",
         "Hillingdon",
         "1364"
        ],
        [
         "23",
         "Waltham Forest",
         "1318"
        ],
        [
         "24",
         "Barking and Dagenham",
         "1212"
        ],
        [
         "25",
         "Havering",
         "1164"
        ],
        [
         "26",
         "Merton",
         "954"
        ],
        [
         "27",
         "Bexley",
         "950"
        ],
        [
         "28",
         "Sutton",
         "884"
        ],
        [
         "29",
         "Harrow",
         "854"
        ],
        [
         "30",
         "Richmond upon Thames",
         "838"
        ],
        [
         "31",
         "Kingston",
         "674"
        ],
        [
         "32",
         "City of London",
         "638"
        ]
       ],
       "shape": {
        "columns": 2,
        "rows": 33
       }
      },
      "text/html": [
       "<div>\n",
       "<style scoped>\n",
       "    .dataframe tbody tr th:only-of-type {\n",
       "        vertical-align: middle;\n",
       "    }\n",
       "\n",
       "    .dataframe tbody tr th {\n",
       "        vertical-align: top;\n",
       "    }\n",
       "\n",
       "    .dataframe thead th {\n",
       "        text-align: right;\n",
       "    }\n",
       "</style>\n",
       "<table border=\"1\" class=\"dataframe\">\n",
       "  <thead>\n",
       "    <tr style=\"text-align: right;\">\n",
       "      <th></th>\n",
       "      <th>Borough</th>\n",
       "      <th>Total Accidents</th>\n",
       "    </tr>\n",
       "  </thead>\n",
       "  <tbody>\n",
       "    <tr>\n",
       "      <th>0</th>\n",
       "      <td>City of Westminster</td>\n",
       "      <td>3032</td>\n",
       "    </tr>\n",
       "    <tr>\n",
       "      <th>1</th>\n",
       "      <td>Lambeth</td>\n",
       "      <td>2382</td>\n",
       "    </tr>\n",
       "    <tr>\n",
       "      <th>2</th>\n",
       "      <td>Tower Hamlets</td>\n",
       "      <td>2232</td>\n",
       "    </tr>\n",
       "    <tr>\n",
       "      <th>3</th>\n",
       "      <td>Southwark</td>\n",
       "      <td>2186</td>\n",
       "    </tr>\n",
       "    <tr>\n",
       "      <th>4</th>\n",
       "      <td>Ealing</td>\n",
       "      <td>1966</td>\n",
       "    </tr>\n",
       "    <tr>\n",
       "      <th>5</th>\n",
       "      <td>Croydon</td>\n",
       "      <td>1908</td>\n",
       "    </tr>\n",
       "    <tr>\n",
       "      <th>6</th>\n",
       "      <td>Barnet</td>\n",
       "      <td>1896</td>\n",
       "    </tr>\n",
       "    <tr>\n",
       "      <th>7</th>\n",
       "      <td>Enfield</td>\n",
       "      <td>1894</td>\n",
       "    </tr>\n",
       "    <tr>\n",
       "      <th>8</th>\n",
       "      <td>Wandsworth</td>\n",
       "      <td>1890</td>\n",
       "    </tr>\n",
       "    <tr>\n",
       "      <th>9</th>\n",
       "      <td>Camden</td>\n",
       "      <td>1838</td>\n",
       "    </tr>\n",
       "    <tr>\n",
       "      <th>10</th>\n",
       "      <td>Newham</td>\n",
       "      <td>1758</td>\n",
       "    </tr>\n",
       "    <tr>\n",
       "      <th>11</th>\n",
       "      <td>Hackney</td>\n",
       "      <td>1730</td>\n",
       "    </tr>\n",
       "    <tr>\n",
       "      <th>12</th>\n",
       "      <td>Brent</td>\n",
       "      <td>1722</td>\n",
       "    </tr>\n",
       "    <tr>\n",
       "      <th>13</th>\n",
       "      <td>Haringey</td>\n",
       "      <td>1698</td>\n",
       "    </tr>\n",
       "    <tr>\n",
       "      <th>14</th>\n",
       "      <td>Lewisham</td>\n",
       "      <td>1590</td>\n",
       "    </tr>\n",
       "    <tr>\n",
       "      <th>15</th>\n",
       "      <td>Hounslow</td>\n",
       "      <td>1508</td>\n",
       "    </tr>\n",
       "    <tr>\n",
       "      <th>16</th>\n",
       "      <td>Islington</td>\n",
       "      <td>1468</td>\n",
       "    </tr>\n",
       "    <tr>\n",
       "      <th>17</th>\n",
       "      <td>Greenwich</td>\n",
       "      <td>1448</td>\n",
       "    </tr>\n",
       "    <tr>\n",
       "      <th>18</th>\n",
       "      <td>Bromley</td>\n",
       "      <td>1418</td>\n",
       "    </tr>\n",
       "    <tr>\n",
       "      <th>19</th>\n",
       "      <td>Kensington and Chelsea</td>\n",
       "      <td>1410</td>\n",
       "    </tr>\n",
       "    <tr>\n",
       "      <th>20</th>\n",
       "      <td>Hammersmith and Fulham</td>\n",
       "      <td>1404</td>\n",
       "    </tr>\n",
       "    <tr>\n",
       "      <th>21</th>\n",
       "      <td>Redbridge</td>\n",
       "      <td>1398</td>\n",
       "    </tr>\n",
       "    <tr>\n",
       "      <th>22</th>\n",
       "      <td>Hillingdon</td>\n",
       "      <td>1364</td>\n",
       "    </tr>\n",
       "    <tr>\n",
       "      <th>23</th>\n",
       "      <td>Waltham Forest</td>\n",
       "      <td>1318</td>\n",
       "    </tr>\n",
       "    <tr>\n",
       "      <th>24</th>\n",
       "      <td>Barking and Dagenham</td>\n",
       "      <td>1212</td>\n",
       "    </tr>\n",
       "    <tr>\n",
       "      <th>25</th>\n",
       "      <td>Havering</td>\n",
       "      <td>1164</td>\n",
       "    </tr>\n",
       "    <tr>\n",
       "      <th>26</th>\n",
       "      <td>Merton</td>\n",
       "      <td>954</td>\n",
       "    </tr>\n",
       "    <tr>\n",
       "      <th>27</th>\n",
       "      <td>Bexley</td>\n",
       "      <td>950</td>\n",
       "    </tr>\n",
       "    <tr>\n",
       "      <th>28</th>\n",
       "      <td>Sutton</td>\n",
       "      <td>884</td>\n",
       "    </tr>\n",
       "    <tr>\n",
       "      <th>29</th>\n",
       "      <td>Harrow</td>\n",
       "      <td>854</td>\n",
       "    </tr>\n",
       "    <tr>\n",
       "      <th>30</th>\n",
       "      <td>Richmond upon Thames</td>\n",
       "      <td>838</td>\n",
       "    </tr>\n",
       "    <tr>\n",
       "      <th>31</th>\n",
       "      <td>Kingston</td>\n",
       "      <td>674</td>\n",
       "    </tr>\n",
       "    <tr>\n",
       "      <th>32</th>\n",
       "      <td>City of London</td>\n",
       "      <td>638</td>\n",
       "    </tr>\n",
       "  </tbody>\n",
       "</table>\n",
       "</div>"
      ],
      "text/plain": [
       "                   Borough  Total Accidents\n",
       "0      City of Westminster             3032\n",
       "1                  Lambeth             2382\n",
       "2            Tower Hamlets             2232\n",
       "3                Southwark             2186\n",
       "4                   Ealing             1966\n",
       "5                  Croydon             1908\n",
       "6                   Barnet             1896\n",
       "7                  Enfield             1894\n",
       "8               Wandsworth             1890\n",
       "9                   Camden             1838\n",
       "10                  Newham             1758\n",
       "11                 Hackney             1730\n",
       "12                   Brent             1722\n",
       "13                Haringey             1698\n",
       "14                Lewisham             1590\n",
       "15                Hounslow             1508\n",
       "16               Islington             1468\n",
       "17               Greenwich             1448\n",
       "18                 Bromley             1418\n",
       "19  Kensington and Chelsea             1410\n",
       "20  Hammersmith and Fulham             1404\n",
       "21               Redbridge             1398\n",
       "22              Hillingdon             1364\n",
       "23          Waltham Forest             1318\n",
       "24    Barking and Dagenham             1212\n",
       "25                Havering             1164\n",
       "26                  Merton              954\n",
       "27                  Bexley              950\n",
       "28                  Sutton              884\n",
       "29                  Harrow              854\n",
       "30    Richmond upon Thames              838\n",
       "31                Kingston              674\n",
       "32          City of London              638"
      ]
     },
     "execution_count": 114,
     "metadata": {},
     "output_type": "execute_result"
    }
   ],
   "source": [
    "borough_counts = tfl_accident_df['Borough'].value_counts().sort_values(ascending=False).rename('Total Accidents').reset_index()\n",
    "\n",
    "borough_counts"
   ]
  },
  {
   "cell_type": "markdown",
   "metadata": {},
   "source": [
    "### 2. severity per borough\n",
    "    * unstack for columns per"
   ]
  },
  {
   "cell_type": "code",
   "execution_count": 115,
   "metadata": {},
   "outputs": [
    {
     "data": {
      "application/vnd.microsoft.datawrangler.viewer.v0+json": {
       "columns": [
        {
         "name": "index",
         "rawType": "int64",
         "type": "integer"
        },
        {
         "name": "Borough",
         "rawType": "object",
         "type": "string"
        },
        {
         "name": "Fatal",
         "rawType": "int64",
         "type": "integer"
        },
        {
         "name": "Serious",
         "rawType": "int64",
         "type": "integer"
        },
        {
         "name": "Slight",
         "rawType": "int64",
         "type": "integer"
        }
       ],
       "conversionMethod": "pd.DataFrame",
       "ref": "cc34c437-a25c-420f-8569-caa30cd580b8",
       "rows": [
        [
         "0",
         "Barking and Dagenham",
         "8",
         "160",
         "1044"
        ],
        [
         "1",
         "Barnet",
         "8",
         "270",
         "1618"
        ],
        [
         "2",
         "Bexley",
         "6",
         "136",
         "808"
        ],
        [
         "3",
         "Brent",
         "12",
         "220",
         "1490"
        ],
        [
         "4",
         "Bromley",
         "12",
         "190",
         "1216"
        ]
       ],
       "shape": {
        "columns": 4,
        "rows": 5
       }
      },
      "text/html": [
       "<div>\n",
       "<style scoped>\n",
       "    .dataframe tbody tr th:only-of-type {\n",
       "        vertical-align: middle;\n",
       "    }\n",
       "\n",
       "    .dataframe tbody tr th {\n",
       "        vertical-align: top;\n",
       "    }\n",
       "\n",
       "    .dataframe thead th {\n",
       "        text-align: right;\n",
       "    }\n",
       "</style>\n",
       "<table border=\"1\" class=\"dataframe\">\n",
       "  <thead>\n",
       "    <tr style=\"text-align: right;\">\n",
       "      <th>Severity</th>\n",
       "      <th>Borough</th>\n",
       "      <th>Fatal</th>\n",
       "      <th>Serious</th>\n",
       "      <th>Slight</th>\n",
       "    </tr>\n",
       "  </thead>\n",
       "  <tbody>\n",
       "    <tr>\n",
       "      <th>0</th>\n",
       "      <td>Barking and Dagenham</td>\n",
       "      <td>8</td>\n",
       "      <td>160</td>\n",
       "      <td>1044</td>\n",
       "    </tr>\n",
       "    <tr>\n",
       "      <th>1</th>\n",
       "      <td>Barnet</td>\n",
       "      <td>8</td>\n",
       "      <td>270</td>\n",
       "      <td>1618</td>\n",
       "    </tr>\n",
       "    <tr>\n",
       "      <th>2</th>\n",
       "      <td>Bexley</td>\n",
       "      <td>6</td>\n",
       "      <td>136</td>\n",
       "      <td>808</td>\n",
       "    </tr>\n",
       "    <tr>\n",
       "      <th>3</th>\n",
       "      <td>Brent</td>\n",
       "      <td>12</td>\n",
       "      <td>220</td>\n",
       "      <td>1490</td>\n",
       "    </tr>\n",
       "    <tr>\n",
       "      <th>4</th>\n",
       "      <td>Bromley</td>\n",
       "      <td>12</td>\n",
       "      <td>190</td>\n",
       "      <td>1216</td>\n",
       "    </tr>\n",
       "  </tbody>\n",
       "</table>\n",
       "</div>"
      ],
      "text/plain": [
       "Severity               Borough  Fatal  Serious  Slight\n",
       "0         Barking and Dagenham      8      160    1044\n",
       "1                       Barnet      8      270    1618\n",
       "2                       Bexley      6      136     808\n",
       "3                        Brent     12      220    1490\n",
       "4                      Bromley     12      190    1216"
      ]
     },
     "execution_count": 115,
     "metadata": {},
     "output_type": "execute_result"
    }
   ],
   "source": [
    "borough_severity_group = tfl_accident_df.groupby(['Borough', 'Severity']).size().unstack(fill_value=0).reset_index()\n",
    "\n",
    "borough_severity_group.head()"
   ]
  },
  {
   "cell_type": "markdown",
   "metadata": {},
   "source": [
    "* ### merge 1 & 2 on Borough"
   ]
  },
  {
   "cell_type": "code",
   "execution_count": 116,
   "metadata": {},
   "outputs": [
    {
     "data": {
      "application/vnd.microsoft.datawrangler.viewer.v0+json": {
       "columns": [
        {
         "name": "index",
         "rawType": "int64",
         "type": "integer"
        },
        {
         "name": "Borough",
         "rawType": "object",
         "type": "string"
        },
        {
         "name": "Fatal",
         "rawType": "int64",
         "type": "integer"
        },
        {
         "name": "Serious",
         "rawType": "int64",
         "type": "integer"
        },
        {
         "name": "Slight",
         "rawType": "int64",
         "type": "integer"
        },
        {
         "name": "Total Accidents",
         "rawType": "int64",
         "type": "integer"
        }
       ],
       "conversionMethod": "pd.DataFrame",
       "ref": "a2db706b-afc4-433f-908a-97b2fb81fa09",
       "rows": [
        [
         "0",
         "Barking and Dagenham",
         "8",
         "160",
         "1044",
         "1212"
        ],
        [
         "1",
         "Barnet",
         "8",
         "270",
         "1618",
         "1896"
        ],
        [
         "2",
         "Bexley",
         "6",
         "136",
         "808",
         "950"
        ],
        [
         "3",
         "Brent",
         "12",
         "220",
         "1490",
         "1722"
        ],
        [
         "4",
         "Bromley",
         "12",
         "190",
         "1216",
         "1418"
        ]
       ],
       "shape": {
        "columns": 5,
        "rows": 5
       }
      },
      "text/html": [
       "<div>\n",
       "<style scoped>\n",
       "    .dataframe tbody tr th:only-of-type {\n",
       "        vertical-align: middle;\n",
       "    }\n",
       "\n",
       "    .dataframe tbody tr th {\n",
       "        vertical-align: top;\n",
       "    }\n",
       "\n",
       "    .dataframe thead th {\n",
       "        text-align: right;\n",
       "    }\n",
       "</style>\n",
       "<table border=\"1\" class=\"dataframe\">\n",
       "  <thead>\n",
       "    <tr style=\"text-align: right;\">\n",
       "      <th></th>\n",
       "      <th>Borough</th>\n",
       "      <th>Fatal</th>\n",
       "      <th>Serious</th>\n",
       "      <th>Slight</th>\n",
       "      <th>Total Accidents</th>\n",
       "    </tr>\n",
       "  </thead>\n",
       "  <tbody>\n",
       "    <tr>\n",
       "      <th>0</th>\n",
       "      <td>Barking and Dagenham</td>\n",
       "      <td>8</td>\n",
       "      <td>160</td>\n",
       "      <td>1044</td>\n",
       "      <td>1212</td>\n",
       "    </tr>\n",
       "    <tr>\n",
       "      <th>1</th>\n",
       "      <td>Barnet</td>\n",
       "      <td>8</td>\n",
       "      <td>270</td>\n",
       "      <td>1618</td>\n",
       "      <td>1896</td>\n",
       "    </tr>\n",
       "    <tr>\n",
       "      <th>2</th>\n",
       "      <td>Bexley</td>\n",
       "      <td>6</td>\n",
       "      <td>136</td>\n",
       "      <td>808</td>\n",
       "      <td>950</td>\n",
       "    </tr>\n",
       "    <tr>\n",
       "      <th>3</th>\n",
       "      <td>Brent</td>\n",
       "      <td>12</td>\n",
       "      <td>220</td>\n",
       "      <td>1490</td>\n",
       "      <td>1722</td>\n",
       "    </tr>\n",
       "    <tr>\n",
       "      <th>4</th>\n",
       "      <td>Bromley</td>\n",
       "      <td>12</td>\n",
       "      <td>190</td>\n",
       "      <td>1216</td>\n",
       "      <td>1418</td>\n",
       "    </tr>\n",
       "  </tbody>\n",
       "</table>\n",
       "</div>"
      ],
      "text/plain": [
       "                Borough  Fatal  Serious  Slight  Total Accidents\n",
       "0  Barking and Dagenham      8      160    1044             1212\n",
       "1                Barnet      8      270    1618             1896\n",
       "2                Bexley      6      136     808              950\n",
       "3                 Brent     12      220    1490             1722\n",
       "4               Bromley     12      190    1216             1418"
      ]
     },
     "execution_count": 116,
     "metadata": {},
     "output_type": "execute_result"
    }
   ],
   "source": [
    "accidents_sorted_df = pd.merge(borough_severity_group, borough_counts, on='Borough', how='inner')\n",
    "\n",
    "\n",
    "accidents_sorted_df.head()"
   ]
  },
  {
   "cell_type": "code",
   "execution_count": 122,
   "metadata": {},
   "outputs": [
    {
     "data": {
      "image/png": "[encoded data removed]",
      "text/plain": [
       "<Figure size 1000x500 with 1 Axes>"
      ]
     },
     "metadata": {},
     "output_type": "display_data"
    }
   ],
   "source": [
    "plt.figure(figsize=(10,5))\n",
    "plt.bar(accidents_sorted_df[\"Borough\"], accidents_sorted_df[\"Total Accidents\"], color='skyblue')\n",
    "plt.xlabel(\"Borough\")\n",
    "plt.ylabel(\"Total Accidents\")\n",
    "plt.title(\"Vehicle Accidents per London Borough\")\n",
    "plt.xticks(rotation=45, ha='right')\n",
    "plt.show()"
   ]
  }
 ],
 "metadata": {
  "kernelspec": {
   "display_name": ".venv",
   "language": "python",
   "name": "python3"
  },
  "language_info": {
   "codemirror_mode": {
    "name": "ipython",
    "version": 3
   },
   "file_extension": ".py",
   "mimetype": "text/x-python",
   "name": "python",
   "nbconvert_exporter": "python",
   "pygments_lexer": "ipython3",
   "version": "3.12.4"
  }
 },
 "nbformat": 4,
 "nbformat_minor": 2
}
