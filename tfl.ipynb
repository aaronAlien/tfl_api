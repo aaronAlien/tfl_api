{
 "cells": [
  {
   "cell_type": "markdown",
   "metadata": {},
   "source": [
    "# TFL - AccidentStats"
   ]
  },
  {
   "cell_type": "code",
   "execution_count": 15,
   "metadata": {},
   "outputs": [],
   "source": [
    "! pip install requests pandas matplotlib python-dotenv"
   ]
  },
  {
   "cell_type": "code",
   "execution_count": 16,
   "metadata": {},
   "outputs": [],
   "source": [
    "import requests\n",
    "import pandas as pd\n",
    "import os\n",
    "import csv\n",
    "import matplotlib.pyplot as plt\n",
    "from dotenv import load_dotenv"
   ]
  },
  {
   "cell_type": "markdown",
   "metadata": {},
   "source": [
    "* _load variables_"
   ]
  },
  {
   "cell_type": "code",
   "execution_count": 2,
   "metadata": {},
   "outputs": [
    {
     "data": {
      "text/plain": [
       "True"
      ]
     },
     "execution_count": 2,
     "metadata": {},
     "output_type": "execute_result"
    }
   ],
   "source": [
    "load_dotenv()"
   ]
  },
  {
   "cell_type": "code",
   "execution_count": 3,
   "metadata": {},
   "outputs": [],
   "source": [
    "APP_ID = os.getenv('APP_ID')\n",
    "API_KEY = os.getenv('API_KEY')\n",
    "YEAR = 2019"
   ]
  },
  {
   "cell_type": "markdown",
   "metadata": {},
   "source": [
    "* ## _accidents_"
   ]
  },
  {
   "cell_type": "code",
   "execution_count": 6,
   "metadata": {},
   "outputs": [],
   "source": [
    "url = f'https://api.tfl.gov.uk/AccidentStats/{YEAR}?app_id={APP_ID}&app_key={API_KEY}'"
   ]
  },
  {
   "cell_type": "code",
   "execution_count": 7,
   "metadata": {},
   "outputs": [
    {
     "name": "stdout",
     "output_type": "stream",
     "text": [
      "[{'$type': 'Tfl.Api.Presentation.Entities.AccidentStats.AccidentDetail, Tfl.Api.Presentation.Entities', 'id': 345906, 'lat': 51.511963, 'lon': -0.028211, 'location': 'On Commercial Road Near The Junction With Burdett Road', 'date': '2019-01-03T01:20:00Z', 'severity': 'Slight', 'borough': 'Tower Hamlets', 'casualties': [{'$type': 'Tfl.Api.Presentation.Entities.AccidentStats.Casualty, Tfl.Api.Presentation.Entities', 'age': 27, 'class': 'Driver', 'severity': 'Slight', 'mode': 'Car', 'ageBand': 'Adult'}], 'vehicles': [{'$type': 'Tfl.Api.Presentation.Entities.AccidentStats.Vehicle, Tfl.Api.Presentation.Entities', 'type': 'Car'}, {'$type': 'Tfl.Api.Presentation.Entities.AccidentStats.Vehicle, Tfl.Api.Presentation.Entities', 'type': 'Car'}]}, {'$type': 'Tfl.Api.Presentation.Entities.AccidentStats.AccidentDetail, Tfl.Api.Presentation.Entities', 'id': 345907, 'lat': 51.371636, 'lon': -0.117621, 'location': 'On Purley Way 20 metres north of The Junction With Waddon Road', 'date': '2019-01-02T22:45:00Z', 'severity': 'Slight', 'borough': 'Croydon', 'casualties': [{'$type': 'Tfl.Api.Presentation.Entities.AccidentStats.Casualty, Tfl.Api.Presentation.Entities', 'age': 42, 'class': 'Driver', 'severity': 'Slight', 'mode': 'Car', 'ageBand': 'Adult'}], 'vehicles': [{'$type': 'Tfl.Api.Presentation.Entities.AccidentStats.Vehicle, Tfl.Api.Presentation.Entities', 'type': 'Car'}, {'$type': 'Tfl.Api.Presentation.Entities.AccidentStats.Vehicle, Tfl.Api.Presentation.Entities', 'type': 'Car'}]}]\n"
     ]
    }
   ],
   "source": [
    "response = requests.get(url)\n",
    "\n",
    "if response.status_code == 200:\n",
    "    accident_data = response.json()\n",
    "    print(accident_data[:2])\n",
    "else:\n",
    "    print(f'Error: {response.status_code}, {response.text}')\n"
   ]
  },
  {
   "cell_type": "code",
   "execution_count": 8,
   "metadata": {},
   "outputs": [],
   "source": [
    "\n",
    "my_list = []\n",
    "\n",
    "for accident in accident_data:\n",
    "    date = accident['date']\n",
    "    borough = accident['borough']\n",
    "    lat = accident['lat']\n",
    "    lon = accident['lon']\n",
    "    severity = accident['severity']\n",
    "    total_vehicles = len(accident['vehicles'])\n",
    "    vehicles = [vehicle['type'] for (vehicle) in accident['vehicles']]\n",
    "\n",
    "    my_list.append({\n",
    "        'Date': date,\n",
    "        'Borough': borough,\n",
    "        'Severity': severity,\n",
    "        'Vehicles Total': total_vehicles,\n",
    "        'Vehicles Types': vehicles,\n",
    "        'Latitude': lat,\n",
    "        'Longitude': lon\n",
    "    })\n",
    "\n",
    "    #print(f'Date: {date}\\n Borough: {borough}\\n Severity: {severity}\\n Vehicles Total: {total_vehicles} \\n Vehicle Types: {vehicles}\\n\\n')\n"
   ]
  },
  {
   "cell_type": "code",
   "execution_count": 9,
   "metadata": {},
   "outputs": [
    {
     "data": {
      "text/plain": [
       "[{'Date': '2019-01-03T01:20:00Z',\n",
       "  'Borough': 'Tower Hamlets',\n",
       "  'Severity': 'Slight',\n",
       "  'Vehicles Total': 2,\n",
       "  'Vehicles Types': ['Car', 'Car'],\n",
       "  'Latitude': 51.511963,\n",
       "  'Longitude': -0.028211},\n",
       " {'Date': '2019-01-02T22:45:00Z',\n",
       "  'Borough': 'Croydon',\n",
       "  'Severity': 'Slight',\n",
       "  'Vehicles Total': 2,\n",
       "  'Vehicles Types': ['Car', 'Car'],\n",
       "  'Latitude': 51.371636,\n",
       "  'Longitude': -0.117621}]"
      ]
     },
     "execution_count": 9,
     "metadata": {},
     "output_type": "execute_result"
    }
   ],
   "source": [
    "my_list[:2]"
   ]
  },
  {
   "cell_type": "code",
   "execution_count": 10,
   "metadata": {},
   "outputs": [
    {
     "data": {
      "application/vnd.microsoft.datawrangler.viewer.v0+json": {
       "columns": [
        {
         "name": "index",
         "rawType": "int64",
         "type": "integer"
        },
        {
         "name": "Date",
         "rawType": "object",
         "type": "string"
        },
        {
         "name": "Borough",
         "rawType": "object",
         "type": "string"
        },
        {
         "name": "Severity",
         "rawType": "object",
         "type": "string"
        },
        {
         "name": "Vehicles Total",
         "rawType": "int64",
         "type": "integer"
        },
        {
         "name": "Vehicles Types",
         "rawType": "object",
         "type": "unknown"
        },
        {
         "name": "Latitude",
         "rawType": "float64",
         "type": "float"
        },
        {
         "name": "Longitude",
         "rawType": "float64",
         "type": "float"
        }
       ],
       "conversionMethod": "pd.DataFrame",
       "ref": "a0c2bf86-16a6-4f19-a465-f25ed33c2248",
       "rows": [
        [
         "0",
         "2019-01-03T01:20:00Z",
         "Tower Hamlets",
         "Slight",
         "2",
         "['Car', 'Car']",
         "51.511963",
         "-0.028211"
        ],
        [
         "1",
         "2019-01-02T22:45:00Z",
         "Croydon",
         "Slight",
         "2",
         "['Car', 'Car']",
         "51.371636",
         "-0.117621"
        ],
        [
         "2",
         "2019-01-02T18:45:00Z",
         "Tower Hamlets",
         "Slight",
         "2",
         "['PedalCycle', 'Motorcycle_50_125cc']",
         "51.514951",
         "-0.072747"
        ],
        [
         "3",
         "2019-01-03T08:41:00Z",
         "Ealing",
         "Slight",
         "1",
         "['Car']",
         "51.519173",
         "-0.262356"
        ],
        [
         "4",
         "2019-01-03T08:37:00Z",
         "Islington",
         "Slight",
         "2",
         "['Motorcycle_50_125cc', 'Car']",
         "51.565743",
         "-0.136308"
        ]
       ],
       "shape": {
        "columns": 7,
        "rows": 5
       }
      },
      "text/html": [
       "<div>\n",
       "<style scoped>\n",
       "    .dataframe tbody tr th:only-of-type {\n",
       "        vertical-align: middle;\n",
       "    }\n",
       "\n",
       "    .dataframe tbody tr th {\n",
       "        vertical-align: top;\n",
       "    }\n",
       "\n",
       "    .dataframe thead th {\n",
       "        text-align: right;\n",
       "    }\n",
       "</style>\n",
       "<table border=\"1\" class=\"dataframe\">\n",
       "  <thead>\n",
       "    <tr style=\"text-align: right;\">\n",
       "      <th></th>\n",
       "      <th>Date</th>\n",
       "      <th>Borough</th>\n",
       "      <th>Severity</th>\n",
       "      <th>Vehicles Total</th>\n",
       "      <th>Vehicles Types</th>\n",
       "      <th>Latitude</th>\n",
       "      <th>Longitude</th>\n",
       "    </tr>\n",
       "  </thead>\n",
       "  <tbody>\n",
       "    <tr>\n",
       "      <th>0</th>\n",
       "      <td>2019-01-03T01:20:00Z</td>\n",
       "      <td>Tower Hamlets</td>\n",
       "      <td>Slight</td>\n",
       "      <td>2</td>\n",
       "      <td>[Car, Car]</td>\n",
       "      <td>51.511963</td>\n",
       "      <td>-0.028211</td>\n",
       "    </tr>\n",
       "    <tr>\n",
       "      <th>1</th>\n",
       "      <td>2019-01-02T22:45:00Z</td>\n",
       "      <td>Croydon</td>\n",
       "      <td>Slight</td>\n",
       "      <td>2</td>\n",
       "      <td>[Car, Car]</td>\n",
       "      <td>51.371636</td>\n",
       "      <td>-0.117621</td>\n",
       "    </tr>\n",
       "    <tr>\n",
       "      <th>2</th>\n",
       "      <td>2019-01-02T18:45:00Z</td>\n",
       "      <td>Tower Hamlets</td>\n",
       "      <td>Slight</td>\n",
       "      <td>2</td>\n",
       "      <td>[PedalCycle, Motorcycle_50_125cc]</td>\n",
       "      <td>51.514951</td>\n",
       "      <td>-0.072747</td>\n",
       "    </tr>\n",
       "    <tr>\n",
       "      <th>3</th>\n",
       "      <td>2019-01-03T08:41:00Z</td>\n",
       "      <td>Ealing</td>\n",
       "      <td>Slight</td>\n",
       "      <td>1</td>\n",
       "      <td>[Car]</td>\n",
       "      <td>51.519173</td>\n",
       "      <td>-0.262356</td>\n",
       "    </tr>\n",
       "    <tr>\n",
       "      <th>4</th>\n",
       "      <td>2019-01-03T08:37:00Z</td>\n",
       "      <td>Islington</td>\n",
       "      <td>Slight</td>\n",
       "      <td>2</td>\n",
       "      <td>[Motorcycle_50_125cc, Car]</td>\n",
       "      <td>51.565743</td>\n",
       "      <td>-0.136308</td>\n",
       "    </tr>\n",
       "  </tbody>\n",
       "</table>\n",
       "</div>"
      ],
      "text/plain": [
       "                   Date        Borough Severity  Vehicles Total  \\\n",
       "0  2019-01-03T01:20:00Z  Tower Hamlets   Slight               2   \n",
       "1  2019-01-02T22:45:00Z        Croydon   Slight               2   \n",
       "2  2019-01-02T18:45:00Z  Tower Hamlets   Slight               2   \n",
       "3  2019-01-03T08:41:00Z         Ealing   Slight               1   \n",
       "4  2019-01-03T08:37:00Z      Islington   Slight               2   \n",
       "\n",
       "                      Vehicles Types   Latitude  Longitude  \n",
       "0                         [Car, Car]  51.511963  -0.028211  \n",
       "1                         [Car, Car]  51.371636  -0.117621  \n",
       "2  [PedalCycle, Motorcycle_50_125cc]  51.514951  -0.072747  \n",
       "3                              [Car]  51.519173  -0.262356  \n",
       "4         [Motorcycle_50_125cc, Car]  51.565743  -0.136308  "
      ]
     },
     "execution_count": 10,
     "metadata": {},
     "output_type": "execute_result"
    }
   ],
   "source": [
    "tfl_accident_df = pd.DataFrame(my_list)\n",
    "tfl_accident_df.reset_index()\n",
    "tfl_accident_df.head()"
   ]
  },
  {
   "cell_type": "code",
   "execution_count": 11,
   "metadata": {},
   "outputs": [
    {
     "data": {
      "text/plain": [
       "33"
      ]
     },
     "execution_count": 11,
     "metadata": {},
     "output_type": "execute_result"
    }
   ],
   "source": [
    "len(tfl_accident_df['Borough'].unique())"
   ]
  },
  {
   "cell_type": "markdown",
   "metadata": {},
   "source": [
    "### 1. _count per borough_"
   ]
  },
  {
   "cell_type": "code",
   "execution_count": 12,
   "metadata": {},
   "outputs": [
    {
     "data": {
      "application/vnd.microsoft.datawrangler.viewer.v0+json": {
       "columns": [
        {
         "name": "index",
         "rawType": "int64",
         "type": "integer"
        },
        {
         "name": "Borough",
         "rawType": "object",
         "type": "string"
        },
        {
         "name": "Total Accidents",
         "rawType": "int64",
         "type": "integer"
        }
       ],
       "conversionMethod": "pd.DataFrame",
       "ref": "8f23c376-75cb-48d8-95e8-d419737a2c36",
       "rows": [
        [
         "0",
         "City of Westminster",
         "3032"
        ],
        [
         "1",
         "Lambeth",
         "2382"
        ],
        [
         "2",
         "Tower Hamlets",
         "2232"
        ],
        [
         "3",
         "Southwark",
         "2186"
        ],
        [
         "4",
         "Ealing",
         "1966"
        ],
        [
         "5",
         "Croydon",
         "1908"
        ],
        [
         "6",
         "Barnet",
         "1896"
        ],
        [
         "7",
         "Enfield",
         "1894"
        ],
        [
         "8",
         "Wandsworth",
         "1890"
        ],
        [
         "9",
         "Camden",
         "1838"
        ],
        [
         "10",
         "Newham",
         "1758"
        ],
        [
         "11",
         "Hackney",
         "1730"
        ],
        [
         "12",
         "Brent",
         "1722"
        ],
        [
         "13",
         "Haringey",
         "1698"
        ],
        [
         "14",
         "Lewisham",
         "1590"
        ],
        [
         "15",
         "Hounslow",
         "1508"
        ],
        [
         "16",
         "Islington",
         "1468"
        ],
        [
         "17",
         "Greenwich",
         "1448"
        ],
        [
         "18",
         "Bromley",
         "1418"
        ],
        [
         "19",
         "Kensington and Chelsea",
         "1410"
        ],
        [
         "20",
         "Hammersmith and Fulham",
         "1404"
        ],
        [
         "21",
         "Redbridge",
         "1398"
        ],
        [
         "22",
         "Hillingdon",
         "1364"
        ],
        [
         "23",
         "Waltham Forest",
         "1318"
        ],
        [
         "24",
         "Barking and Dagenham",
         "1212"
        ],
        [
         "25",
         "Havering",
         "1164"
        ],
        [
         "26",
         "Merton",
         "954"
        ],
        [
         "27",
         "Bexley",
         "950"
        ],
        [
         "28",
         "Sutton",
         "884"
        ],
        [
         "29",
         "Harrow",
         "854"
        ],
        [
         "30",
         "Richmond upon Thames",
         "838"
        ],
        [
         "31",
         "Kingston",
         "674"
        ],
        [
         "32",
         "City of London",
         "638"
        ]
       ],
       "shape": {
        "columns": 2,
        "rows": 33
       }
      },
      "text/html": [
       "<div>\n",
       "<style scoped>\n",
       "    .dataframe tbody tr th:only-of-type {\n",
       "        vertical-align: middle;\n",
       "    }\n",
       "\n",
       "    .dataframe tbody tr th {\n",
       "        vertical-align: top;\n",
       "    }\n",
       "\n",
       "    .dataframe thead th {\n",
       "        text-align: right;\n",
       "    }\n",
       "</style>\n",
       "<table border=\"1\" class=\"dataframe\">\n",
       "  <thead>\n",
       "    <tr style=\"text-align: right;\">\n",
       "      <th></th>\n",
       "      <th>Borough</th>\n",
       "      <th>Total Accidents</th>\n",
       "    </tr>\n",
       "  </thead>\n",
       "  <tbody>\n",
       "    <tr>\n",
       "      <th>0</th>\n",
       "      <td>City of Westminster</td>\n",
       "      <td>3032</td>\n",
       "    </tr>\n",
       "    <tr>\n",
       "      <th>1</th>\n",
       "      <td>Lambeth</td>\n",
       "      <td>2382</td>\n",
       "    </tr>\n",
       "    <tr>\n",
       "      <th>2</th>\n",
       "      <td>Tower Hamlets</td>\n",
       "      <td>2232</td>\n",
       "    </tr>\n",
       "    <tr>\n",
       "      <th>3</th>\n",
       "      <td>Southwark</td>\n",
       "      <td>2186</td>\n",
       "    </tr>\n",
       "    <tr>\n",
       "      <th>4</th>\n",
       "      <td>Ealing</td>\n",
       "      <td>1966</td>\n",
       "    </tr>\n",
       "    <tr>\n",
       "      <th>5</th>\n",
       "      <td>Croydon</td>\n",
       "      <td>1908</td>\n",
       "    </tr>\n",
       "    <tr>\n",
       "      <th>6</th>\n",
       "      <td>Barnet</td>\n",
       "      <td>1896</td>\n",
       "    </tr>\n",
       "    <tr>\n",
       "      <th>7</th>\n",
       "      <td>Enfield</td>\n",
       "      <td>1894</td>\n",
       "    </tr>\n",
       "    <tr>\n",
       "      <th>8</th>\n",
       "      <td>Wandsworth</td>\n",
       "      <td>1890</td>\n",
       "    </tr>\n",
       "    <tr>\n",
       "      <th>9</th>\n",
       "      <td>Camden</td>\n",
       "      <td>1838</td>\n",
       "    </tr>\n",
       "    <tr>\n",
       "      <th>10</th>\n",
       "      <td>Newham</td>\n",
       "      <td>1758</td>\n",
       "    </tr>\n",
       "    <tr>\n",
       "      <th>11</th>\n",
       "      <td>Hackney</td>\n",
       "      <td>1730</td>\n",
       "    </tr>\n",
       "    <tr>\n",
       "      <th>12</th>\n",
       "      <td>Brent</td>\n",
       "      <td>1722</td>\n",
       "    </tr>\n",
       "    <tr>\n",
       "      <th>13</th>\n",
       "      <td>Haringey</td>\n",
       "      <td>1698</td>\n",
       "    </tr>\n",
       "    <tr>\n",
       "      <th>14</th>\n",
       "      <td>Lewisham</td>\n",
       "      <td>1590</td>\n",
       "    </tr>\n",
       "    <tr>\n",
       "      <th>15</th>\n",
       "      <td>Hounslow</td>\n",
       "      <td>1508</td>\n",
       "    </tr>\n",
       "    <tr>\n",
       "      <th>16</th>\n",
       "      <td>Islington</td>\n",
       "      <td>1468</td>\n",
       "    </tr>\n",
       "    <tr>\n",
       "      <th>17</th>\n",
       "      <td>Greenwich</td>\n",
       "      <td>1448</td>\n",
       "    </tr>\n",
       "    <tr>\n",
       "      <th>18</th>\n",
       "      <td>Bromley</td>\n",
       "      <td>1418</td>\n",
       "    </tr>\n",
       "    <tr>\n",
       "      <th>19</th>\n",
       "      <td>Kensington and Chelsea</td>\n",
       "      <td>1410</td>\n",
       "    </tr>\n",
       "    <tr>\n",
       "      <th>20</th>\n",
       "      <td>Hammersmith and Fulham</td>\n",
       "      <td>1404</td>\n",
       "    </tr>\n",
       "    <tr>\n",
       "      <th>21</th>\n",
       "      <td>Redbridge</td>\n",
       "      <td>1398</td>\n",
       "    </tr>\n",
       "    <tr>\n",
       "      <th>22</th>\n",
       "      <td>Hillingdon</td>\n",
       "      <td>1364</td>\n",
       "    </tr>\n",
       "    <tr>\n",
       "      <th>23</th>\n",
       "      <td>Waltham Forest</td>\n",
       "      <td>1318</td>\n",
       "    </tr>\n",
       "    <tr>\n",
       "      <th>24</th>\n",
       "      <td>Barking and Dagenham</td>\n",
       "      <td>1212</td>\n",
       "    </tr>\n",
       "    <tr>\n",
       "      <th>25</th>\n",
       "      <td>Havering</td>\n",
       "      <td>1164</td>\n",
       "    </tr>\n",
       "    <tr>\n",
       "      <th>26</th>\n",
       "      <td>Merton</td>\n",
       "      <td>954</td>\n",
       "    </tr>\n",
       "    <tr>\n",
       "      <th>27</th>\n",
       "      <td>Bexley</td>\n",
       "      <td>950</td>\n",
       "    </tr>\n",
       "    <tr>\n",
       "      <th>28</th>\n",
       "      <td>Sutton</td>\n",
       "      <td>884</td>\n",
       "    </tr>\n",
       "    <tr>\n",
       "      <th>29</th>\n",
       "      <td>Harrow</td>\n",
       "      <td>854</td>\n",
       "    </tr>\n",
       "    <tr>\n",
       "      <th>30</th>\n",
       "      <td>Richmond upon Thames</td>\n",
       "      <td>838</td>\n",
       "    </tr>\n",
       "    <tr>\n",
       "      <th>31</th>\n",
       "      <td>Kingston</td>\n",
       "      <td>674</td>\n",
       "    </tr>\n",
       "    <tr>\n",
       "      <th>32</th>\n",
       "      <td>City of London</td>\n",
       "      <td>638</td>\n",
       "    </tr>\n",
       "  </tbody>\n",
       "</table>\n",
       "</div>"
      ],
      "text/plain": [
       "                   Borough  Total Accidents\n",
       "0      City of Westminster             3032\n",
       "1                  Lambeth             2382\n",
       "2            Tower Hamlets             2232\n",
       "3                Southwark             2186\n",
       "4                   Ealing             1966\n",
       "5                  Croydon             1908\n",
       "6                   Barnet             1896\n",
       "7                  Enfield             1894\n",
       "8               Wandsworth             1890\n",
       "9                   Camden             1838\n",
       "10                  Newham             1758\n",
       "11                 Hackney             1730\n",
       "12                   Brent             1722\n",
       "13                Haringey             1698\n",
       "14                Lewisham             1590\n",
       "15                Hounslow             1508\n",
       "16               Islington             1468\n",
       "17               Greenwich             1448\n",
       "18                 Bromley             1418\n",
       "19  Kensington and Chelsea             1410\n",
       "20  Hammersmith and Fulham             1404\n",
       "21               Redbridge             1398\n",
       "22              Hillingdon             1364\n",
       "23          Waltham Forest             1318\n",
       "24    Barking and Dagenham             1212\n",
       "25                Havering             1164\n",
       "26                  Merton              954\n",
       "27                  Bexley              950\n",
       "28                  Sutton              884\n",
       "29                  Harrow              854\n",
       "30    Richmond upon Thames              838\n",
       "31                Kingston              674\n",
       "32          City of London              638"
      ]
     },
     "execution_count": 12,
     "metadata": {},
     "output_type": "execute_result"
    }
   ],
   "source": [
    "borough_counts = tfl_accident_df['Borough'].value_counts().sort_values(ascending=False).rename('Total Accidents').reset_index()\n",
    "\n",
    "borough_counts"
   ]
  },
  {
   "cell_type": "markdown",
   "metadata": {},
   "source": [
    "### 2. _severity per borough_"
   ]
  },
  {
   "cell_type": "code",
   "execution_count": 13,
   "metadata": {},
   "outputs": [
    {
     "data": {
      "application/vnd.microsoft.datawrangler.viewer.v0+json": {
       "columns": [
        {
         "name": "index",
         "rawType": "int64",
         "type": "integer"
        },
        {
         "name": "Borough",
         "rawType": "object",
         "type": "string"
        },
        {
         "name": "Fatal",
         "rawType": "int64",
         "type": "integer"
        },
        {
         "name": "Serious",
         "rawType": "int64",
         "type": "integer"
        },
        {
         "name": "Slight",
         "rawType": "int64",
         "type": "integer"
        }
       ],
       "conversionMethod": "pd.DataFrame",
       "ref": "01e4ed47-516c-4b3b-8c00-4cbb81db01e4",
       "rows": [
        [
         "0",
         "Barking and Dagenham",
         "8",
         "160",
         "1044"
        ],
        [
         "1",
         "Barnet",
         "8",
         "270",
         "1618"
        ],
        [
         "2",
         "Bexley",
         "6",
         "136",
         "808"
        ],
        [
         "3",
         "Brent",
         "12",
         "220",
         "1490"
        ],
        [
         "4",
         "Bromley",
         "12",
         "190",
         "1216"
        ]
       ],
       "shape": {
        "columns": 4,
        "rows": 5
       }
      },
      "text/html": [
       "<div>\n",
       "<style scoped>\n",
       "    .dataframe tbody tr th:only-of-type {\n",
       "        vertical-align: middle;\n",
       "    }\n",
       "\n",
       "    .dataframe tbody tr th {\n",
       "        vertical-align: top;\n",
       "    }\n",
       "\n",
       "    .dataframe thead th {\n",
       "        text-align: right;\n",
       "    }\n",
       "</style>\n",
       "<table border=\"1\" class=\"dataframe\">\n",
       "  <thead>\n",
       "    <tr style=\"text-align: right;\">\n",
       "      <th>Severity</th>\n",
       "      <th>Borough</th>\n",
       "      <th>Fatal</th>\n",
       "      <th>Serious</th>\n",
       "      <th>Slight</th>\n",
       "    </tr>\n",
       "  </thead>\n",
       "  <tbody>\n",
       "    <tr>\n",
       "      <th>0</th>\n",
       "      <td>Barking and Dagenham</td>\n",
       "      <td>8</td>\n",
       "      <td>160</td>\n",
       "      <td>1044</td>\n",
       "    </tr>\n",
       "    <tr>\n",
       "      <th>1</th>\n",
       "      <td>Barnet</td>\n",
       "      <td>8</td>\n",
       "      <td>270</td>\n",
       "      <td>1618</td>\n",
       "    </tr>\n",
       "    <tr>\n",
       "      <th>2</th>\n",
       "      <td>Bexley</td>\n",
       "      <td>6</td>\n",
       "      <td>136</td>\n",
       "      <td>808</td>\n",
       "    </tr>\n",
       "    <tr>\n",
       "      <th>3</th>\n",
       "      <td>Brent</td>\n",
       "      <td>12</td>\n",
       "      <td>220</td>\n",
       "      <td>1490</td>\n",
       "    </tr>\n",
       "    <tr>\n",
       "      <th>4</th>\n",
       "      <td>Bromley</td>\n",
       "      <td>12</td>\n",
       "      <td>190</td>\n",
       "      <td>1216</td>\n",
       "    </tr>\n",
       "  </tbody>\n",
       "</table>\n",
       "</div>"
      ],
      "text/plain": [
       "Severity               Borough  Fatal  Serious  Slight\n",
       "0         Barking and Dagenham      8      160    1044\n",
       "1                       Barnet      8      270    1618\n",
       "2                       Bexley      6      136     808\n",
       "3                        Brent     12      220    1490\n",
       "4                      Bromley     12      190    1216"
      ]
     },
     "execution_count": 13,
     "metadata": {},
     "output_type": "execute_result"
    }
   ],
   "source": [
    "borough_severity_group = tfl_accident_df.groupby(['Borough', 'Severity']).size().unstack(fill_value=0).reset_index()\n",
    "\n",
    "borough_severity_group.head()"
   ]
  },
  {
   "cell_type": "markdown",
   "metadata": {},
   "source": [
    "* _merge 1 & 2 on Borough_"
   ]
  },
  {
   "cell_type": "code",
   "execution_count": 14,
   "metadata": {},
   "outputs": [
    {
     "data": {
      "application/vnd.microsoft.datawrangler.viewer.v0+json": {
       "columns": [
        {
         "name": "index",
         "rawType": "int64",
         "type": "integer"
        },
        {
         "name": "Borough",
         "rawType": "object",
         "type": "string"
        },
        {
         "name": "Fatal",
         "rawType": "int64",
         "type": "integer"
        },
        {
         "name": "Serious",
         "rawType": "int64",
         "type": "integer"
        },
        {
         "name": "Slight",
         "rawType": "int64",
         "type": "integer"
        },
        {
         "name": "Total Accidents",
         "rawType": "int64",
         "type": "integer"
        }
       ],
       "conversionMethod": "pd.DataFrame",
       "ref": "91dcca7f-092d-4ee3-b13f-97a817dffb0f",
       "rows": [
        [
         "0",
         "Barking and Dagenham",
         "8",
         "160",
         "1044",
         "1212"
        ],
        [
         "1",
         "Barnet",
         "8",
         "270",
         "1618",
         "1896"
        ],
        [
         "2",
         "Bexley",
         "6",
         "136",
         "808",
         "950"
        ],
        [
         "3",
         "Brent",
         "12",
         "220",
         "1490",
         "1722"
        ],
        [
         "4",
         "Bromley",
         "12",
         "190",
         "1216",
         "1418"
        ]
       ],
       "shape": {
        "columns": 5,
        "rows": 5
       }
      },
      "text/html": [
       "<div>\n",
       "<style scoped>\n",
       "    .dataframe tbody tr th:only-of-type {\n",
       "        vertical-align: middle;\n",
       "    }\n",
       "\n",
       "    .dataframe tbody tr th {\n",
       "        vertical-align: top;\n",
       "    }\n",
       "\n",
       "    .dataframe thead th {\n",
       "        text-align: right;\n",
       "    }\n",
       "</style>\n",
       "<table border=\"1\" class=\"dataframe\">\n",
       "  <thead>\n",
       "    <tr style=\"text-align: right;\">\n",
       "      <th></th>\n",
       "      <th>Borough</th>\n",
       "      <th>Fatal</th>\n",
       "      <th>Serious</th>\n",
       "      <th>Slight</th>\n",
       "      <th>Total Accidents</th>\n",
       "    </tr>\n",
       "  </thead>\n",
       "  <tbody>\n",
       "    <tr>\n",
       "      <th>0</th>\n",
       "      <td>Barking and Dagenham</td>\n",
       "      <td>8</td>\n",
       "      <td>160</td>\n",
       "      <td>1044</td>\n",
       "      <td>1212</td>\n",
       "    </tr>\n",
       "    <tr>\n",
       "      <th>1</th>\n",
       "      <td>Barnet</td>\n",
       "      <td>8</td>\n",
       "      <td>270</td>\n",
       "      <td>1618</td>\n",
       "      <td>1896</td>\n",
       "    </tr>\n",
       "    <tr>\n",
       "      <th>2</th>\n",
       "      <td>Bexley</td>\n",
       "      <td>6</td>\n",
       "      <td>136</td>\n",
       "      <td>808</td>\n",
       "      <td>950</td>\n",
       "    </tr>\n",
       "    <tr>\n",
       "      <th>3</th>\n",
       "      <td>Brent</td>\n",
       "      <td>12</td>\n",
       "      <td>220</td>\n",
       "      <td>1490</td>\n",
       "      <td>1722</td>\n",
       "    </tr>\n",
       "    <tr>\n",
       "      <th>4</th>\n",
       "      <td>Bromley</td>\n",
       "      <td>12</td>\n",
       "      <td>190</td>\n",
       "      <td>1216</td>\n",
       "      <td>1418</td>\n",
       "    </tr>\n",
       "  </tbody>\n",
       "</table>\n",
       "</div>"
      ],
      "text/plain": [
       "                Borough  Fatal  Serious  Slight  Total Accidents\n",
       "0  Barking and Dagenham      8      160    1044             1212\n",
       "1                Barnet      8      270    1618             1896\n",
       "2                Bexley      6      136     808              950\n",
       "3                 Brent     12      220    1490             1722\n",
       "4               Bromley     12      190    1216             1418"
      ]
     },
     "execution_count": 14,
     "metadata": {},
     "output_type": "execute_result"
    }
   ],
   "source": [
    "accidents_sorted_df = pd.merge(borough_severity_group, borough_counts, on='Borough', how='inner')\n",
    "\n",
    "\n",
    "accidents_sorted_df.head()"
   ]
  },
  {
   "cell_type": "code",
   "execution_count": 27,
   "metadata": {},
   "outputs": [
    {
     "data": {
      "image/png": "[encoded data removed]",
      "text/plain": [
       "<Figure size 1100x500 with 1 Axes>"
      ]
     },
     "metadata": {},
     "output_type": "display_data"
    }
   ],
   "source": [
    "plt.figure(figsize=(11,5))\n",
    "plt.bar(accidents_sorted_df[\"Borough\"], accidents_sorted_df[\"Total Accidents\"], color='orange')\n",
    "plt.xlabel(\"London Borough\")\n",
    "plt.ylabel(\"Total Accidents\")\n",
    "plt.title(\"Vehicle Accidents by London Borough\")\n",
    "plt.xticks(rotation=45, fontsize=8, ha='right')\n",
    "plt.show()"
   ]
  },
  {
   "cell_type": "markdown",
   "metadata": {},
   "source": [
    "* _plot serious and fatal accidents_\n",
    "    * _dual line_"
   ]
  },
  {
   "cell_type": "code",
   "execution_count": null,
   "metadata": {},
   "outputs": [
    {
     "data": {
      "image/png": "[encoded data removed]",
      "text/plain": [
       "<Figure size 1100x500 with 1 Axes>"
      ]
     },
     "metadata": {},
     "output_type": "display_data"
    }
   ],
   "source": [
    "plt.figure(figsize=(11, 5))\n",
    "\n",
    "plt.plot(borough_severity_group['Borough'],borough_severity_group['Serious'], marker='o', linestyle='-', color='orange', label='Serious'\n",
    "         )\n",
    "plt.plot(borough_severity_group['Borough'],borough_severity_group['Fatal'], marker='o', linestyle='-', color='red', label='Fatal')\n",
    "\n",
    "plt.title('Serious vs Fatal Accidents by London Borough')\n",
    "\n",
    "plt.xlabel('London Borough')\n",
    "plt.ylabel('Count')\n",
    "\n",
    "plt.xticks(rotation=45, fontsize=8, ha='right')\n",
    "plt.legend()\n",
    "plt.grid(True, linestyle='--', alpha=0.6)\n",
    "\n",
    "plt.show()"
   ]
  },
  {
   "cell_type": "markdown",
   "metadata": {},
   "source": [
    "## _accessibility_"
   ]
  },
  {
   "cell_type": "markdown",
   "metadata": {},
   "source": [
    "* _step free interchanges_"
   ]
  },
  {
   "cell_type": "code",
   "execution_count": 29,
   "metadata": {},
   "outputs": [
    {
     "data": {
      "application/vnd.microsoft.datawrangler.viewer.v0+json": {
       "columns": [
        {
         "name": "index",
         "rawType": "int64",
         "type": "integer"
        },
        {
         "name": "FromPlatformUniqueId",
         "rawType": "object",
         "type": "string"
        },
        {
         "name": "ToPlatformUniqueId",
         "rawType": "object",
         "type": "string"
        },
        {
         "name": "DistanceInMetres",
         "rawType": "int64",
         "type": "integer"
        }
       ],
       "conversionMethod": "pd.DataFrame",
       "ref": "1fba2ea4-3cc9-4587-997e-7d479de6c269",
       "rows": [
        [
         "0",
         "910GACTNCTL-Plat01-WB-london-overground",
         "910GACTNCTL-Plat02-EB-london-overground",
         "50"
        ],
        [
         "1",
         "910GACTNCTL-Plat02-EB-london-overground",
         "910GACTNCTL-Plat01-WB-london-overground",
         "50"
        ],
        [
         "2",
         "910GANERLEY-Plat01-NB-london-overground",
         "910GANERLEY-Plat02-SB-london-overground",
         "220"
        ],
        [
         "3",
         "910GANERLEY-Plat02-SB-london-overground",
         "910GANERLEY-Plat01-NB-london-overground",
         "220"
        ],
        [
         "4",
         "910GBHILLPK-Plat01-SB-london-overground",
         "910GBHILLPK-Plat02-NB-london-overground",
         "290"
        ]
       ],
       "shape": {
        "columns": 3,
        "rows": 5
       }
      },
      "text/html": [
       "<div>\n",
       "<style scoped>\n",
       "    .dataframe tbody tr th:only-of-type {\n",
       "        vertical-align: middle;\n",
       "    }\n",
       "\n",
       "    .dataframe tbody tr th {\n",
       "        vertical-align: top;\n",
       "    }\n",
       "\n",
       "    .dataframe thead th {\n",
       "        text-align: right;\n",
       "    }\n",
       "</style>\n",
       "<table border=\"1\" class=\"dataframe\">\n",
       "  <thead>\n",
       "    <tr style=\"text-align: right;\">\n",
       "      <th></th>\n",
       "      <th>FromPlatformUniqueId</th>\n",
       "      <th>ToPlatformUniqueId</th>\n",
       "      <th>DistanceInMetres</th>\n",
       "    </tr>\n",
       "  </thead>\n",
       "  <tbody>\n",
       "    <tr>\n",
       "      <th>0</th>\n",
       "      <td>910GACTNCTL-Plat01-WB-london-overground</td>\n",
       "      <td>910GACTNCTL-Plat02-EB-london-overground</td>\n",
       "      <td>50</td>\n",
       "    </tr>\n",
       "    <tr>\n",
       "      <th>1</th>\n",
       "      <td>910GACTNCTL-Plat02-EB-london-overground</td>\n",
       "      <td>910GACTNCTL-Plat01-WB-london-overground</td>\n",
       "      <td>50</td>\n",
       "    </tr>\n",
       "    <tr>\n",
       "      <th>2</th>\n",
       "      <td>910GANERLEY-Plat01-NB-london-overground</td>\n",
       "      <td>910GANERLEY-Plat02-SB-london-overground</td>\n",
       "      <td>220</td>\n",
       "    </tr>\n",
       "    <tr>\n",
       "      <th>3</th>\n",
       "      <td>910GANERLEY-Plat02-SB-london-overground</td>\n",
       "      <td>910GANERLEY-Plat01-NB-london-overground</td>\n",
       "      <td>220</td>\n",
       "    </tr>\n",
       "    <tr>\n",
       "      <th>4</th>\n",
       "      <td>910GBHILLPK-Plat01-SB-london-overground</td>\n",
       "      <td>910GBHILLPK-Plat02-NB-london-overground</td>\n",
       "      <td>290</td>\n",
       "    </tr>\n",
       "  </tbody>\n",
       "</table>\n",
       "</div>"
      ],
      "text/plain": [
       "                      FromPlatformUniqueId  \\\n",
       "0  910GACTNCTL-Plat01-WB-london-overground   \n",
       "1  910GACTNCTL-Plat02-EB-london-overground   \n",
       "2  910GANERLEY-Plat01-NB-london-overground   \n",
       "3  910GANERLEY-Plat02-SB-london-overground   \n",
       "4  910GBHILLPK-Plat01-SB-london-overground   \n",
       "\n",
       "                        ToPlatformUniqueId  DistanceInMetres  \n",
       "0  910GACTNCTL-Plat02-EB-london-overground                50  \n",
       "1  910GACTNCTL-Plat01-WB-london-overground                50  \n",
       "2  910GANERLEY-Plat02-SB-london-overground               220  \n",
       "3  910GANERLEY-Plat01-NB-london-overground               220  \n",
       "4  910GBHILLPK-Plat02-NB-london-overground               290  "
      ]
     },
     "execution_count": 29,
     "metadata": {},
     "output_type": "execute_result"
    }
   ],
   "source": [
    "df = pd.read_csv('data/StepFreeIntechangeInfo.csv')\n",
    "\n",
    "df.head()"
   ]
  },
  {
   "cell_type": "markdown",
   "metadata": {},
   "source": [
    "* _station lifts_"
   ]
  },
  {
   "cell_type": "code",
   "execution_count": 30,
   "metadata": {},
   "outputs": [],
   "source": [
    "df_2 = pd.read_csv('data/Lifts.csv')"
   ]
  },
  {
   "cell_type": "code",
   "execution_count": null,
   "metadata": {},
   "outputs": [
    {
     "data": {
      "application/vnd.microsoft.datawrangler.viewer.v0+json": {
       "columns": [
        {
         "name": "index",
         "rawType": "int64",
         "type": "integer"
        },
        {
         "name": "StationUniqueId",
         "rawType": "object",
         "type": "string"
        },
        {
         "name": "LiftUniqueId",
         "rawType": "object",
         "type": "string"
        },
        {
         "name": "LiftId",
         "rawType": "object",
         "type": "string"
        },
        {
         "name": "FriendlyName",
         "rawType": "object",
         "type": "string"
        },
        {
         "name": "FromAreas",
         "rawType": "object",
         "type": "string"
        },
        {
         "name": "ToAreas",
         "rawType": "object",
         "type": "string"
        },
        {
         "name": "LimitedCapacityLift",
         "rawType": "bool",
         "type": "boolean"
        },
        {
         "name": "LiftNotes",
         "rawType": "object",
         "type": "unknown"
        }
       ],
       "conversionMethod": "pd.DataFrame",
       "ref": "62ae54eb-68d7-4a1d-9d55-d307aa137829",
       "rows": [
        [
         "0",
         "910GACTONML",
         "910GACTONML-Lift-1",
         "1",
         "Lift A",
         "910GACTONML-1001003-AC-S-6",
         "910GACTONML-1001003-RPL1-2",
         "False",
         null
        ],
        [
         "1",
         "910GACTONML",
         "910GACTONML-Lift-2",
         "2",
         "Lift B",
         "910GACTONML-1001003-AC-S-6",
         "910GACTONML-1001003-RPL2-5",
         "False",
         null
        ],
        [
         "2",
         "910GBRENTX",
         "910GBRENTX-Lift-1",
         "1",
         "Lift 1",
         "910GBRENTX-1002310-EntW-7",
         "910GBRENTX-1002310-FB-8",
         "False",
         null
        ],
        [
         "3",
         "910GBRENTX",
         "910GBRENTX-Lift-2",
         "2",
         "Lift 2 ",
         "910GBRENTX-1002310-RLY-5",
         "910GBRENTX-1002310-RPL4-10|910GBRENTX-1002310-RPL3-4",
         "False",
         null
        ],
        [
         "4",
         "910GBRENTX",
         "910GBRENTX-Lift-3",
         "3",
         "Lift 3 ",
         "910GBRENTX-1002310-RLY-5",
         "910GBRENTX-1002310-RPL2-3|910GBRENTX-1002310-RPL1-2",
         "False",
         null
        ]
       ],
       "shape": {
        "columns": 8,
        "rows": 5
       }
      },
      "text/html": [
       "<div>\n",
       "<style scoped>\n",
       "    .dataframe tbody tr th:only-of-type {\n",
       "        vertical-align: middle;\n",
       "    }\n",
       "\n",
       "    .dataframe tbody tr th {\n",
       "        vertical-align: top;\n",
       "    }\n",
       "\n",
       "    .dataframe thead th {\n",
       "        text-align: right;\n",
       "    }\n",
       "</style>\n",
       "<table border=\"1\" class=\"dataframe\">\n",
       "  <thead>\n",
       "    <tr style=\"text-align: right;\">\n",
       "      <th></th>\n",
       "      <th>StationUniqueId</th>\n",
       "      <th>LiftUniqueId</th>\n",
       "      <th>LiftId</th>\n",
       "      <th>FriendlyName</th>\n",
       "      <th>FromAreas</th>\n",
       "      <th>ToAreas</th>\n",
       "      <th>LimitedCapacityLift</th>\n",
       "      <th>LiftNotes</th>\n",
       "    </tr>\n",
       "  </thead>\n",
       "  <tbody>\n",
       "    <tr>\n",
       "      <th>0</th>\n",
       "      <td>910GACTONML</td>\n",
       "      <td>910GACTONML-Lift-1</td>\n",
       "      <td>1</td>\n",
       "      <td>Lift A</td>\n",
       "      <td>910GACTONML-1001003-AC-S-6</td>\n",
       "      <td>910GACTONML-1001003-RPL1-2</td>\n",
       "      <td>False</td>\n",
       "      <td>NaN</td>\n",
       "    </tr>\n",
       "    <tr>\n",
       "      <th>1</th>\n",
       "      <td>910GACTONML</td>\n",
       "      <td>910GACTONML-Lift-2</td>\n",
       "      <td>2</td>\n",
       "      <td>Lift B</td>\n",
       "      <td>910GACTONML-1001003-AC-S-6</td>\n",
       "      <td>910GACTONML-1001003-RPL2-5</td>\n",
       "      <td>False</td>\n",
       "      <td>NaN</td>\n",
       "    </tr>\n",
       "    <tr>\n",
       "      <th>2</th>\n",
       "      <td>910GBRENTX</td>\n",
       "      <td>910GBRENTX-Lift-1</td>\n",
       "      <td>1</td>\n",
       "      <td>Lift 1</td>\n",
       "      <td>910GBRENTX-1002310-EntW-7</td>\n",
       "      <td>910GBRENTX-1002310-FB-8</td>\n",
       "      <td>False</td>\n",
       "      <td>NaN</td>\n",
       "    </tr>\n",
       "    <tr>\n",
       "      <th>3</th>\n",
       "      <td>910GBRENTX</td>\n",
       "      <td>910GBRENTX-Lift-2</td>\n",
       "      <td>2</td>\n",
       "      <td>Lift 2</td>\n",
       "      <td>910GBRENTX-1002310-RLY-5</td>\n",
       "      <td>910GBRENTX-1002310-RPL4-10|910GBRENTX-1002310-...</td>\n",
       "      <td>False</td>\n",
       "      <td>NaN</td>\n",
       "    </tr>\n",
       "    <tr>\n",
       "      <th>4</th>\n",
       "      <td>910GBRENTX</td>\n",
       "      <td>910GBRENTX-Lift-3</td>\n",
       "      <td>3</td>\n",
       "      <td>Lift 3</td>\n",
       "      <td>910GBRENTX-1002310-RLY-5</td>\n",
       "      <td>910GBRENTX-1002310-RPL2-3|910GBRENTX-1002310-R...</td>\n",
       "      <td>False</td>\n",
       "      <td>NaN</td>\n",
       "    </tr>\n",
       "  </tbody>\n",
       "</table>\n",
       "</div>"
      ],
      "text/plain": [
       "  StationUniqueId        LiftUniqueId LiftId FriendlyName  \\\n",
       "0     910GACTONML  910GACTONML-Lift-1      1       Lift A   \n",
       "1     910GACTONML  910GACTONML-Lift-2      2       Lift B   \n",
       "2      910GBRENTX   910GBRENTX-Lift-1      1       Lift 1   \n",
       "3      910GBRENTX   910GBRENTX-Lift-2      2      Lift 2    \n",
       "4      910GBRENTX   910GBRENTX-Lift-3      3      Lift 3    \n",
       "\n",
       "                    FromAreas  \\\n",
       "0  910GACTONML-1001003-AC-S-6   \n",
       "1  910GACTONML-1001003-AC-S-6   \n",
       "2   910GBRENTX-1002310-EntW-7   \n",
       "3    910GBRENTX-1002310-RLY-5   \n",
       "4    910GBRENTX-1002310-RLY-5   \n",
       "\n",
       "                                             ToAreas  LimitedCapacityLift  \\\n",
       "0                         910GACTONML-1001003-RPL1-2                False   \n",
       "1                         910GACTONML-1001003-RPL2-5                False   \n",
       "2                            910GBRENTX-1002310-FB-8                False   \n",
       "3  910GBRENTX-1002310-RPL4-10|910GBRENTX-1002310-...                False   \n",
       "4  910GBRENTX-1002310-RPL2-3|910GBRENTX-1002310-R...                False   \n",
       "\n",
       "  LiftNotes  \n",
       "0       NaN  \n",
       "1       NaN  \n",
       "2       NaN  \n",
       "3       NaN  \n",
       "4       NaN  "
      ]
     },
     "execution_count": 31,
     "metadata": {},
     "output_type": "execute_result"
    }
   ],
   "source": [
    "lifts_cleaned = df_2.drop(columns=['NationalRailUprn', 'LiftName', 'IntermediateAreas', 'IntermediateAreas2'], axis=1)\n",
    "\n",
    "lifts_cleaned.head()"
   ]
  },
  {
   "cell_type": "markdown",
   "metadata": {},
   "source": [
    "* _stations for StationUniqueId_"
   ]
  },
  {
   "cell_type": "code",
   "execution_count": 32,
   "metadata": {},
   "outputs": [
    {
     "data": {
      "application/vnd.microsoft.datawrangler.viewer.v0+json": {
       "columns": [
        {
         "name": "index",
         "rawType": "int64",
         "type": "integer"
        },
        {
         "name": "UniqueId",
         "rawType": "object",
         "type": "string"
        },
        {
         "name": "Name",
         "rawType": "object",
         "type": "string"
        },
        {
         "name": "FareZones",
         "rawType": "object",
         "type": "string"
        },
        {
         "name": "HubNaptanCode",
         "rawType": "object",
         "type": "unknown"
        },
        {
         "name": "Wifi",
         "rawType": "bool",
         "type": "boolean"
        },
        {
         "name": "OutsideStationUniqueId",
         "rawType": "object",
         "type": "string"
        },
        {
         "name": "BlueBadgeCarParking",
         "rawType": "bool",
         "type": "boolean"
        },
        {
         "name": "BlueBadgeCarParkSpaces",
         "rawType": "float64",
         "type": "float"
        },
        {
         "name": "TaxiRanksOutsideStation",
         "rawType": "bool",
         "type": "boolean"
        },
        {
         "name": "MainBusInterchange",
         "rawType": "object",
         "type": "unknown"
        },
        {
         "name": "PierInterchange",
         "rawType": "object",
         "type": "unknown"
        },
        {
         "name": "NationalRailInterchange",
         "rawType": "object",
         "type": "unknown"
        },
        {
         "name": "AirportInterchange",
         "rawType": "object",
         "type": "unknown"
        },
        {
         "name": "EmiratesAirLineInterchange",
         "rawType": "object",
         "type": "unknown"
        }
       ],
       "conversionMethod": "pd.DataFrame",
       "ref": "ba67c75a-1a1b-4fdc-9eb4-8c0ec756ab8c",
       "rows": [
        [
         "0",
         "HUBABW",
         "Abbey Wood",
         "4",
         "HUBABW",
         "False",
         "HUBABW-Outside",
         "False",
         null,
         "False",
         null,
         null,
         null,
         null,
         null
        ],
        [
         "1",
         "910GACTNCTL",
         "Acton Central",
         "3",
         null,
         "True",
         "910GACTNCTL-Outside",
         "False",
         null,
         "False",
         null,
         null,
         null,
         null,
         null
        ],
        [
         "2",
         "910GACTONML",
         "Acton Main Line",
         "3",
         null,
         "False",
         "910GACTONML-Outside",
         "False",
         null,
         "False",
         null,
         null,
         null,
         null,
         null
        ],
        [
         "3",
         "910GANERLEY",
         "Anerley",
         "4",
         null,
         "True",
         "910GANERLEY-Outside",
         "False",
         null,
         "False",
         null,
         null,
         null,
         null,
         null
        ],
        [
         "4",
         "910GBCKNHMH",
         "Beckenham Hill",
         "4",
         null,
         "False",
         "910GBCKNHMH-Outside",
         "False",
         null,
         "False",
         null,
         null,
         null,
         null,
         null
        ]
       ],
       "shape": {
        "columns": 14,
        "rows": 5
       }
      },
      "text/html": [
       "<div>\n",
       "<style scoped>\n",
       "    .dataframe tbody tr th:only-of-type {\n",
       "        vertical-align: middle;\n",
       "    }\n",
       "\n",
       "    .dataframe tbody tr th {\n",
       "        vertical-align: top;\n",
       "    }\n",
       "\n",
       "    .dataframe thead th {\n",
       "        text-align: right;\n",
       "    }\n",
       "</style>\n",
       "<table border=\"1\" class=\"dataframe\">\n",
       "  <thead>\n",
       "    <tr style=\"text-align: right;\">\n",
       "      <th></th>\n",
       "      <th>UniqueId</th>\n",
       "      <th>Name</th>\n",
       "      <th>FareZones</th>\n",
       "      <th>HubNaptanCode</th>\n",
       "      <th>Wifi</th>\n",
       "      <th>OutsideStationUniqueId</th>\n",
       "      <th>BlueBadgeCarParking</th>\n",
       "      <th>BlueBadgeCarParkSpaces</th>\n",
       "      <th>TaxiRanksOutsideStation</th>\n",
       "      <th>MainBusInterchange</th>\n",
       "      <th>PierInterchange</th>\n",
       "      <th>NationalRailInterchange</th>\n",
       "      <th>AirportInterchange</th>\n",
       "      <th>EmiratesAirLineInterchange</th>\n",
       "    </tr>\n",
       "  </thead>\n",
       "  <tbody>\n",
       "    <tr>\n",
       "      <th>0</th>\n",
       "      <td>HUBABW</td>\n",
       "      <td>Abbey Wood</td>\n",
       "      <td>4</td>\n",
       "      <td>HUBABW</td>\n",
       "      <td>False</td>\n",
       "      <td>HUBABW-Outside</td>\n",
       "      <td>False</td>\n",
       "      <td>NaN</td>\n",
       "      <td>False</td>\n",
       "      <td>NaN</td>\n",
       "      <td>NaN</td>\n",
       "      <td>NaN</td>\n",
       "      <td>NaN</td>\n",
       "      <td>NaN</td>\n",
       "    </tr>\n",
       "    <tr>\n",
       "      <th>1</th>\n",
       "      <td>910GACTNCTL</td>\n",
       "      <td>Acton Central</td>\n",
       "      <td>3</td>\n",
       "      <td>NaN</td>\n",
       "      <td>True</td>\n",
       "      <td>910GACTNCTL-Outside</td>\n",
       "      <td>False</td>\n",
       "      <td>NaN</td>\n",
       "      <td>False</td>\n",
       "      <td>NaN</td>\n",
       "      <td>NaN</td>\n",
       "      <td>NaN</td>\n",
       "      <td>NaN</td>\n",
       "      <td>NaN</td>\n",
       "    </tr>\n",
       "    <tr>\n",
       "      <th>2</th>\n",
       "      <td>910GACTONML</td>\n",
       "      <td>Acton Main Line</td>\n",
       "      <td>3</td>\n",
       "      <td>NaN</td>\n",
       "      <td>False</td>\n",
       "      <td>910GACTONML-Outside</td>\n",
       "      <td>False</td>\n",
       "      <td>NaN</td>\n",
       "      <td>False</td>\n",
       "      <td>NaN</td>\n",
       "      <td>NaN</td>\n",
       "      <td>NaN</td>\n",
       "      <td>NaN</td>\n",
       "      <td>NaN</td>\n",
       "    </tr>\n",
       "    <tr>\n",
       "      <th>3</th>\n",
       "      <td>910GANERLEY</td>\n",
       "      <td>Anerley</td>\n",
       "      <td>4</td>\n",
       "      <td>NaN</td>\n",
       "      <td>True</td>\n",
       "      <td>910GANERLEY-Outside</td>\n",
       "      <td>False</td>\n",
       "      <td>NaN</td>\n",
       "      <td>False</td>\n",
       "      <td>NaN</td>\n",
       "      <td>NaN</td>\n",
       "      <td>NaN</td>\n",
       "      <td>NaN</td>\n",
       "      <td>NaN</td>\n",
       "    </tr>\n",
       "    <tr>\n",
       "      <th>4</th>\n",
       "      <td>910GBCKNHMH</td>\n",
       "      <td>Beckenham Hill</td>\n",
       "      <td>4</td>\n",
       "      <td>NaN</td>\n",
       "      <td>False</td>\n",
       "      <td>910GBCKNHMH-Outside</td>\n",
       "      <td>False</td>\n",
       "      <td>NaN</td>\n",
       "      <td>False</td>\n",
       "      <td>NaN</td>\n",
       "      <td>NaN</td>\n",
       "      <td>NaN</td>\n",
       "      <td>NaN</td>\n",
       "      <td>NaN</td>\n",
       "    </tr>\n",
       "  </tbody>\n",
       "</table>\n",
       "</div>"
      ],
      "text/plain": [
       "      UniqueId             Name FareZones HubNaptanCode   Wifi  \\\n",
       "0       HUBABW       Abbey Wood         4        HUBABW  False   \n",
       "1  910GACTNCTL    Acton Central         3           NaN   True   \n",
       "2  910GACTONML  Acton Main Line         3           NaN  False   \n",
       "3  910GANERLEY          Anerley         4           NaN   True   \n",
       "4  910GBCKNHMH   Beckenham Hill         4           NaN  False   \n",
       "\n",
       "  OutsideStationUniqueId  BlueBadgeCarParking  BlueBadgeCarParkSpaces  \\\n",
       "0         HUBABW-Outside                False                     NaN   \n",
       "1    910GACTNCTL-Outside                False                     NaN   \n",
       "2    910GACTONML-Outside                False                     NaN   \n",
       "3    910GANERLEY-Outside                False                     NaN   \n",
       "4    910GBCKNHMH-Outside                False                     NaN   \n",
       "\n",
       "   TaxiRanksOutsideStation MainBusInterchange PierInterchange  \\\n",
       "0                    False                NaN             NaN   \n",
       "1                    False                NaN             NaN   \n",
       "2                    False                NaN             NaN   \n",
       "3                    False                NaN             NaN   \n",
       "4                    False                NaN             NaN   \n",
       "\n",
       "  NationalRailInterchange AirportInterchange EmiratesAirLineInterchange  \n",
       "0                     NaN                NaN                        NaN  \n",
       "1                     NaN                NaN                        NaN  \n",
       "2                     NaN                NaN                        NaN  \n",
       "3                     NaN                NaN                        NaN  \n",
       "4                     NaN                NaN                        NaN  "
      ]
     },
     "execution_count": 32,
     "metadata": {},
     "output_type": "execute_result"
    }
   ],
   "source": [
    "df_3 = pd.read_csv('data/Stations.csv')\n",
    "\n",
    "df_3.head()"
   ]
  },
  {
   "cell_type": "code",
   "execution_count": 36,
   "metadata": {},
   "outputs": [
    {
     "data": {
      "application/vnd.microsoft.datawrangler.viewer.v0+json": {
       "columns": [
        {
         "name": "index",
         "rawType": "int64",
         "type": "integer"
        },
        {
         "name": "StationUniqueId",
         "rawType": "object",
         "type": "string"
        },
        {
         "name": "Name",
         "rawType": "object",
         "type": "string"
        },
        {
         "name": "FareZones",
         "rawType": "object",
         "type": "string"
        },
        {
         "name": "Wifi",
         "rawType": "bool",
         "type": "boolean"
        },
        {
         "name": "BlueBadgeCarParking",
         "rawType": "bool",
         "type": "boolean"
        }
       ],
       "conversionMethod": "pd.DataFrame",
       "ref": "ece24ef5-9db8-45b0-81de-5da71740e1bc",
       "rows": [
        [
         "0",
         "HUBABW",
         "Abbey Wood",
         "4",
         "False",
         "False"
        ],
        [
         "1",
         "910GACTNCTL",
         "Acton Central",
         "3",
         "True",
         "False"
        ],
        [
         "2",
         "910GACTONML",
         "Acton Main Line",
         "3",
         "False",
         "False"
        ],
        [
         "3",
         "910GANERLEY",
         "Anerley",
         "4",
         "True",
         "False"
        ],
        [
         "4",
         "910GBCKNHMH",
         "Beckenham Hill",
         "4",
         "False",
         "False"
        ]
       ],
       "shape": {
        "columns": 5,
        "rows": 5
       }
      },
      "text/html": [
       "<div>\n",
       "<style scoped>\n",
       "    .dataframe tbody tr th:only-of-type {\n",
       "        vertical-align: middle;\n",
       "    }\n",
       "\n",
       "    .dataframe tbody tr th {\n",
       "        vertical-align: top;\n",
       "    }\n",
       "\n",
       "    .dataframe thead th {\n",
       "        text-align: right;\n",
       "    }\n",
       "</style>\n",
       "<table border=\"1\" class=\"dataframe\">\n",
       "  <thead>\n",
       "    <tr style=\"text-align: right;\">\n",
       "      <th></th>\n",
       "      <th>StationUniqueId</th>\n",
       "      <th>Name</th>\n",
       "      <th>FareZones</th>\n",
       "      <th>Wifi</th>\n",
       "      <th>BlueBadgeCarParking</th>\n",
       "    </tr>\n",
       "  </thead>\n",
       "  <tbody>\n",
       "    <tr>\n",
       "      <th>0</th>\n",
       "      <td>HUBABW</td>\n",
       "      <td>Abbey Wood</td>\n",
       "      <td>4</td>\n",
       "      <td>False</td>\n",
       "      <td>False</td>\n",
       "    </tr>\n",
       "    <tr>\n",
       "      <th>1</th>\n",
       "      <td>910GACTNCTL</td>\n",
       "      <td>Acton Central</td>\n",
       "      <td>3</td>\n",
       "      <td>True</td>\n",
       "      <td>False</td>\n",
       "    </tr>\n",
       "    <tr>\n",
       "      <th>2</th>\n",
       "      <td>910GACTONML</td>\n",
       "      <td>Acton Main Line</td>\n",
       "      <td>3</td>\n",
       "      <td>False</td>\n",
       "      <td>False</td>\n",
       "    </tr>\n",
       "    <tr>\n",
       "      <th>3</th>\n",
       "      <td>910GANERLEY</td>\n",
       "      <td>Anerley</td>\n",
       "      <td>4</td>\n",
       "      <td>True</td>\n",
       "      <td>False</td>\n",
       "    </tr>\n",
       "    <tr>\n",
       "      <th>4</th>\n",
       "      <td>910GBCKNHMH</td>\n",
       "      <td>Beckenham Hill</td>\n",
       "      <td>4</td>\n",
       "      <td>False</td>\n",
       "      <td>False</td>\n",
       "    </tr>\n",
       "  </tbody>\n",
       "</table>\n",
       "</div>"
      ],
      "text/plain": [
       "  StationUniqueId             Name FareZones   Wifi  BlueBadgeCarParking\n",
       "0          HUBABW       Abbey Wood         4  False                False\n",
       "1     910GACTNCTL    Acton Central         3   True                False\n",
       "2     910GACTONML  Acton Main Line         3  False                False\n",
       "3     910GANERLEY          Anerley         4   True                False\n",
       "4     910GBCKNHMH   Beckenham Hill         4  False                False"
      ]
     },
     "execution_count": 36,
     "metadata": {},
     "output_type": "execute_result"
    }
   ],
   "source": [
    "stations_info = df_3.drop(columns=['HubNaptanCode', 'OutsideStationUniqueId', 'BlueBadgeCarParkSpaces', 'TaxiRanksOutsideStation', 'MainBusInterchange', 'PierInterchange', 'NationalRailInterchange', 'AirportInterchange', 'EmiratesAirLineInterchange'], axis=1)\n",
    "\n",
    "stations_info.rename(columns={\"UniqueId\": \"StationUniqueId\"}, inplace=True)\n",
    "\n",
    "stations_info.head()"
   ]
  },
  {
   "cell_type": "markdown",
   "metadata": {},
   "source": [
    "* _staionsinfo merge with liftscleaned_"
   ]
  },
  {
   "cell_type": "code",
   "execution_count": 38,
   "metadata": {},
   "outputs": [
    {
     "data": {
      "application/vnd.microsoft.datawrangler.viewer.v0+json": {
       "columns": [
        {
         "name": "index",
         "rawType": "int64",
         "type": "integer"
        },
        {
         "name": "StationUniqueId",
         "rawType": "object",
         "type": "string"
        },
        {
         "name": "Name",
         "rawType": "object",
         "type": "string"
        },
        {
         "name": "FareZones",
         "rawType": "object",
         "type": "string"
        },
        {
         "name": "Wifi",
         "rawType": "bool",
         "type": "boolean"
        },
        {
         "name": "BlueBadgeCarParking",
         "rawType": "bool",
         "type": "boolean"
        },
        {
         "name": "LiftUniqueId",
         "rawType": "object",
         "type": "string"
        },
        {
         "name": "LiftId",
         "rawType": "object",
         "type": "string"
        },
        {
         "name": "FriendlyName",
         "rawType": "object",
         "type": "string"
        },
        {
         "name": "FromAreas",
         "rawType": "object",
         "type": "string"
        },
        {
         "name": "ToAreas",
         "rawType": "object",
         "type": "unknown"
        },
        {
         "name": "LimitedCapacityLift",
         "rawType": "object",
         "type": "unknown"
        },
        {
         "name": "LiftNotes",
         "rawType": "object",
         "type": "unknown"
        }
       ],
       "conversionMethod": "pd.DataFrame",
       "ref": "91eb67cb-1ec8-4d19-9508-fe80ec2e8d28",
       "rows": [
        [
         "0",
         "HUBABW",
         "Abbey Wood",
         "4",
         "False",
         "False",
         "HUBABW-Lift-1",
         "1",
         "Lift A",
         "HUBABW-1001001-FELIX-6",
         "HUBABW-1001001-HARRO-2",
         "False",
         null
        ],
        [
         "1",
         "HUBABW",
         "Abbey Wood",
         "4",
         "False",
         "False",
         "HUBABW-Lift-2",
         "2",
         "Lift B",
         "HUBABW-1001001-FELIX-6",
         null,
         "False",
         null
        ],
        [
         "2",
         "HUBABW",
         "Abbey Wood",
         "4",
         "False",
         "False",
         "HUBABW-Lift-3",
         "3",
         "Lift C",
         "HUBABW-1001001-WILTO-1",
         "HUBABW-1001001-HARRO-2",
         "False",
         null
        ],
        [
         "3",
         "HUBABW",
         "Abbey Wood",
         "4",
         "False",
         "False",
         "HUBABW-Lift-4",
         "4",
         "Lift D",
         "HUBABW-1001001-WILTO-1",
         null,
         "False",
         null
        ],
        [
         "4",
         "HUBABW",
         "Abbey Wood",
         "4",
         "False",
         "False",
         "HUBABW-Lift-6",
         "6",
         "Lift F",
         "HUBABW-1001001-TH-11",
         "HUBABW-1001001-RPLD-3|HUBABW-1001001-RPLC-7",
         "False",
         null
        ]
       ],
       "shape": {
        "columns": 12,
        "rows": 5
       }
      },
      "text/html": [
       "<div>\n",
       "<style scoped>\n",
       "    .dataframe tbody tr th:only-of-type {\n",
       "        vertical-align: middle;\n",
       "    }\n",
       "\n",
       "    .dataframe tbody tr th {\n",
       "        vertical-align: top;\n",
       "    }\n",
       "\n",
       "    .dataframe thead th {\n",
       "        text-align: right;\n",
       "    }\n",
       "</style>\n",
       "<table border=\"1\" class=\"dataframe\">\n",
       "  <thead>\n",
       "    <tr style=\"text-align: right;\">\n",
       "      <th></th>\n",
       "      <th>StationUniqueId</th>\n",
       "      <th>Name</th>\n",
       "      <th>FareZones</th>\n",
       "      <th>Wifi</th>\n",
       "      <th>BlueBadgeCarParking</th>\n",
       "      <th>LiftUniqueId</th>\n",
       "      <th>LiftId</th>\n",
       "      <th>FriendlyName</th>\n",
       "      <th>FromAreas</th>\n",
       "      <th>ToAreas</th>\n",
       "      <th>LimitedCapacityLift</th>\n",
       "      <th>LiftNotes</th>\n",
       "    </tr>\n",
       "  </thead>\n",
       "  <tbody>\n",
       "    <tr>\n",
       "      <th>0</th>\n",
       "      <td>HUBABW</td>\n",
       "      <td>Abbey Wood</td>\n",
       "      <td>4</td>\n",
       "      <td>False</td>\n",
       "      <td>False</td>\n",
       "      <td>HUBABW-Lift-1</td>\n",
       "      <td>1</td>\n",
       "      <td>Lift A</td>\n",
       "      <td>HUBABW-1001001-FELIX-6</td>\n",
       "      <td>HUBABW-1001001-HARRO-2</td>\n",
       "      <td>False</td>\n",
       "      <td>NaN</td>\n",
       "    </tr>\n",
       "    <tr>\n",
       "      <th>1</th>\n",
       "      <td>HUBABW</td>\n",
       "      <td>Abbey Wood</td>\n",
       "      <td>4</td>\n",
       "      <td>False</td>\n",
       "      <td>False</td>\n",
       "      <td>HUBABW-Lift-2</td>\n",
       "      <td>2</td>\n",
       "      <td>Lift B</td>\n",
       "      <td>HUBABW-1001001-FELIX-6</td>\n",
       "      <td>NaN</td>\n",
       "      <td>False</td>\n",
       "      <td>NaN</td>\n",
       "    </tr>\n",
       "    <tr>\n",
       "      <th>2</th>\n",
       "      <td>HUBABW</td>\n",
       "      <td>Abbey Wood</td>\n",
       "      <td>4</td>\n",
       "      <td>False</td>\n",
       "      <td>False</td>\n",
       "      <td>HUBABW-Lift-3</td>\n",
       "      <td>3</td>\n",
       "      <td>Lift C</td>\n",
       "      <td>HUBABW-1001001-WILTO-1</td>\n",
       "      <td>HUBABW-1001001-HARRO-2</td>\n",
       "      <td>False</td>\n",
       "      <td>NaN</td>\n",
       "    </tr>\n",
       "    <tr>\n",
       "      <th>3</th>\n",
       "      <td>HUBABW</td>\n",
       "      <td>Abbey Wood</td>\n",
       "      <td>4</td>\n",
       "      <td>False</td>\n",
       "      <td>False</td>\n",
       "      <td>HUBABW-Lift-4</td>\n",
       "      <td>4</td>\n",
       "      <td>Lift D</td>\n",
       "      <td>HUBABW-1001001-WILTO-1</td>\n",
       "      <td>NaN</td>\n",
       "      <td>False</td>\n",
       "      <td>NaN</td>\n",
       "    </tr>\n",
       "    <tr>\n",
       "      <th>4</th>\n",
       "      <td>HUBABW</td>\n",
       "      <td>Abbey Wood</td>\n",
       "      <td>4</td>\n",
       "      <td>False</td>\n",
       "      <td>False</td>\n",
       "      <td>HUBABW-Lift-6</td>\n",
       "      <td>6</td>\n",
       "      <td>Lift F</td>\n",
       "      <td>HUBABW-1001001-TH-11</td>\n",
       "      <td>HUBABW-1001001-RPLD-3|HUBABW-1001001-RPLC-7</td>\n",
       "      <td>False</td>\n",
       "      <td>NaN</td>\n",
       "    </tr>\n",
       "  </tbody>\n",
       "</table>\n",
       "</div>"
      ],
      "text/plain": [
       "  StationUniqueId        Name FareZones   Wifi  BlueBadgeCarParking  \\\n",
       "0          HUBABW  Abbey Wood         4  False                False   \n",
       "1          HUBABW  Abbey Wood         4  False                False   \n",
       "2          HUBABW  Abbey Wood         4  False                False   \n",
       "3          HUBABW  Abbey Wood         4  False                False   \n",
       "4          HUBABW  Abbey Wood         4  False                False   \n",
       "\n",
       "    LiftUniqueId LiftId FriendlyName               FromAreas  \\\n",
       "0  HUBABW-Lift-1      1       Lift A  HUBABW-1001001-FELIX-6   \n",
       "1  HUBABW-Lift-2      2       Lift B  HUBABW-1001001-FELIX-6   \n",
       "2  HUBABW-Lift-3      3       Lift C  HUBABW-1001001-WILTO-1   \n",
       "3  HUBABW-Lift-4      4       Lift D  HUBABW-1001001-WILTO-1   \n",
       "4  HUBABW-Lift-6      6       Lift F    HUBABW-1001001-TH-11   \n",
       "\n",
       "                                       ToAreas LimitedCapacityLift LiftNotes  \n",
       "0                       HUBABW-1001001-HARRO-2               False       NaN  \n",
       "1                                          NaN               False       NaN  \n",
       "2                       HUBABW-1001001-HARRO-2               False       NaN  \n",
       "3                                          NaN               False       NaN  \n",
       "4  HUBABW-1001001-RPLD-3|HUBABW-1001001-RPLC-7               False       NaN  "
      ]
     },
     "execution_count": 38,
     "metadata": {},
     "output_type": "execute_result"
    }
   ],
   "source": [
    "stations_with_lifts = stations_info.merge(lifts_cleaned, on='StationUniqueId', how='left').drop_duplicates()\n",
    "\n",
    "stations_with_lifts.head()"
   ]
  }
 ],
 "metadata": {
  "kernelspec": {
   "display_name": ".venv",
   "language": "python",
   "name": "python3"
  },
  "language_info": {
   "codemirror_mode": {
    "name": "ipython",
    "version": 3
   },
   "file_extension": ".py",
   "mimetype": "text/x-python",
   "name": "python",
   "nbconvert_exporter": "python",
   "pygments_lexer": "ipython3",
   "version": "3.12.3"
  }
 },
 "nbformat": 4,
 "nbformat_minor": 2
}
